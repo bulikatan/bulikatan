{
  "cells": [
    {
      "cell_type": "markdown",
      "metadata": {
        "id": "zekrDX9mDrNl"
      },
      "source": [
        "#**Preliminaries**"
      ]
    },
    {
      "cell_type": "markdown",
      "metadata": {
        "id": "Qlzf5LFcAWKC"
      },
      "source": [
        "**# Set Up**"
      ]
    },
    {
      "cell_type": "markdown",
      "metadata": {
        "id": "Jhia0dBoawaZ"
      },
      "source": [
        "Almost all NLP task including Sentiment Analysis which is used to understand public  reception of the product use language models. Language models have been train to host the task like language translation, question answering and more.\n",
        "\n",
        "We have used it to determine whether comments are pos, neg, or neut and how opinionated they are.SA is a NLP technique of identifying trends and inclination of the masses through the representative information available"
      ]
    },
    {
      "cell_type": "code",
      "execution_count": null,
      "metadata": {
        "colab": {
          "base_uri": "https://localhost:8080/"
        },
        "id": "dIvZLb76z3I8",
        "outputId": "1ee92fe4-f58f-419b-91ed-3c0963d5c5ab"
      },
      "outputs": [
        {
          "output_type": "stream",
          "name": "stdout",
          "text": [
            "Drive already mounted at /content/drive/; to attempt to forcibly remount, call drive.mount(\"/content/drive/\", force_remount=True).\n"
          ]
        }
      ],
      "source": [
        "#mount drive\n",
        "from google.colab import drive\n",
        "drive.mount('/content/drive/')\n"
      ]
    },
    {
      "cell_type": "code",
      "execution_count": null,
      "metadata": {
        "colab": {
          "base_uri": "https://localhost:8080/"
        },
        "id": "In2AV_S2h0Sl",
        "outputId": "47d6733a-9a65-47c1-e024-f9509d66f92c"
      },
      "outputs": [
        {
          "output_type": "stream",
          "name": "stdout",
          "text": [
            "Files in '/content/drive/MyDrive/Colab Notebooks/data': ['BisayaEmbedding.model', 'bisayaEmbeddingModel.bin', 'bisayaEmbeddingModelv1.bin', 'bisayaEmbeddingModelv2.bin', 'model.png', 'model.h5', 'bisayaEmbeddingModel300D.bin']\n"
          ]
        }
      ],
      "source": [
        "import os\n",
        "\n",
        "os.chdir(\"/content/drive/MyDrive/Colab Notebooks/data\")\n",
        "cwd = os.getcwd()  # Get the current working directory (cwd)\n",
        "files = os.listdir(cwd)  # Get all the files in that directory\n",
        "print(\"Files in %r: %s\" % (cwd, files))"
      ]
    },
    {
      "cell_type": "code",
      "execution_count": null,
      "metadata": {
        "id": "vJgxf7Eb0g-D"
      },
      "outputs": [],
      "source": [
        "\"==Import  libraries and functions==\"\n",
        "\n",
        "import numpy as np\n",
        "\n",
        "import re\n",
        "import seaborn as sns\n",
        "\n",
        "import gensim\n",
        "from gensim.models import word2vec\n",
        "import matplotlib.pyplot as plt\n",
        "\n",
        "import nltk\n",
        "from nltk.tokenize import sent_tokenize,word_tokenize\n",
        "\n",
        "from sklearn.feature_extraction.text import CountVectorizer\n",
        "from sklearn.model_selection import train_test_split\n",
        "\n",
        "import pandas as pd\n",
        "\n",
        "dataSet = pd.read_csv('/content/drive/MyDrive/Dataset/BINARYMYDATASET.CSV')\n",
        "#dataSet = pd.read_csv('/content/drive/MyDrive/Dataset/MYOHRIGDATASET.CSV')\n",
        "df =pd.DataFrame(dataSet)\n",
        "\n",
        "#EDA (Structure and Quantity)\n",
        "#f.isnull().sum() # Determine whether there are any missing values in our dataframe\n",
        "#df.isna().sum()\n",
        "#df=df.dropna()    # drop empty rows, impute null values\n",
        "\n",
        "#converting POLARITY column into numeric target \n",
        "#df['POLARITY']=df.POLARITY.map({'POSITIVE':1,'NEGATIVE':0})\n",
        "df['POLARITY'].replace({'POSITIVE':1,'NEGATIVE':0},inplace=True)"
      ]
    },
    {
      "cell_type": "code",
      "execution_count": null,
      "metadata": {
        "colab": {
          "base_uri": "https://localhost:8080/"
        },
        "id": "TlrrCf7Arudw",
        "outputId": "cbc213ee-5d06-4d9d-b6af-86b5c1bd59a1"
      },
      "outputs": [
        {
          "output_type": "execute_result",
          "data": {
            "text/plain": [
              "                                                 REVIEWS  POLARITY\n",
              "0      Way komo sa pag ampo. Ang pag-ampo maoy lig on...         1\n",
              "1      TUNOK sa ugmarong kalamboan mao'y silbing gumo...         1\n",
              "2      SULOD sa pito ka tuig mipundo (steady) ang ato...         1\n",
              "3      WAY kauwaw ang pagtabi og dala nga hambog ni K...         0\n",
              "4                   Way klarong hinungdan ug pagpasabot.         0\n",
              "...                                                  ...       ...\n",
              "46754                         Make a difference Inspire.         1\n",
              "46755   Si Paner di kasarangan nga negosyante nga nap...         1\n",
              "46756  Sa akong pagmaneho gibati ko ang kabalisa kay ...         0\n",
              "46757  Komedyante si Pat. Siya kanunay ang magdalag a...         1\n",
              "46758  Gikataho nga si PO3 Inihao nagpatabang kang PO...         1\n",
              "\n",
              "[46759 rows x 2 columns]"
            ],
            "text/html": [
              "\n",
              "  <div id=\"df-8fcbc634-b64a-45a3-8b1a-a184532e3746\">\n",
              "    <div class=\"colab-df-container\">\n",
              "      <div>\n",
              "<style scoped>\n",
              "    .dataframe tbody tr th:only-of-type {\n",
              "        vertical-align: middle;\n",
              "    }\n",
              "\n",
              "    .dataframe tbody tr th {\n",
              "        vertical-align: top;\n",
              "    }\n",
              "\n",
              "    .dataframe thead th {\n",
              "        text-align: right;\n",
              "    }\n",
              "</style>\n",
              "<table border=\"1\" class=\"dataframe\">\n",
              "  <thead>\n",
              "    <tr style=\"text-align: right;\">\n",
              "      <th></th>\n",
              "      <th>REVIEWS</th>\n",
              "      <th>POLARITY</th>\n",
              "    </tr>\n",
              "  </thead>\n",
              "  <tbody>\n",
              "    <tr>\n",
              "      <th>0</th>\n",
              "      <td>Way komo sa pag ampo. Ang pag-ampo maoy lig on...</td>\n",
              "      <td>1</td>\n",
              "    </tr>\n",
              "    <tr>\n",
              "      <th>1</th>\n",
              "      <td>TUNOK sa ugmarong kalamboan mao'y silbing gumo...</td>\n",
              "      <td>1</td>\n",
              "    </tr>\n",
              "    <tr>\n",
              "      <th>2</th>\n",
              "      <td>SULOD sa pito ka tuig mipundo (steady) ang ato...</td>\n",
              "      <td>1</td>\n",
              "    </tr>\n",
              "    <tr>\n",
              "      <th>3</th>\n",
              "      <td>WAY kauwaw ang pagtabi og dala nga hambog ni K...</td>\n",
              "      <td>0</td>\n",
              "    </tr>\n",
              "    <tr>\n",
              "      <th>4</th>\n",
              "      <td>Way klarong hinungdan ug pagpasabot.</td>\n",
              "      <td>0</td>\n",
              "    </tr>\n",
              "    <tr>\n",
              "      <th>...</th>\n",
              "      <td>...</td>\n",
              "      <td>...</td>\n",
              "    </tr>\n",
              "    <tr>\n",
              "      <th>46754</th>\n",
              "      <td>Make a difference Inspire.</td>\n",
              "      <td>1</td>\n",
              "    </tr>\n",
              "    <tr>\n",
              "      <th>46755</th>\n",
              "      <td>Si Paner di kasarangan nga negosyante nga nap...</td>\n",
              "      <td>1</td>\n",
              "    </tr>\n",
              "    <tr>\n",
              "      <th>46756</th>\n",
              "      <td>Sa akong pagmaneho gibati ko ang kabalisa kay ...</td>\n",
              "      <td>0</td>\n",
              "    </tr>\n",
              "    <tr>\n",
              "      <th>46757</th>\n",
              "      <td>Komedyante si Pat. Siya kanunay ang magdalag a...</td>\n",
              "      <td>1</td>\n",
              "    </tr>\n",
              "    <tr>\n",
              "      <th>46758</th>\n",
              "      <td>Gikataho nga si PO3 Inihao nagpatabang kang PO...</td>\n",
              "      <td>1</td>\n",
              "    </tr>\n",
              "  </tbody>\n",
              "</table>\n",
              "<p>46759 rows × 2 columns</p>\n",
              "</div>\n",
              "      <button class=\"colab-df-convert\" onclick=\"convertToInteractive('df-8fcbc634-b64a-45a3-8b1a-a184532e3746')\"\n",
              "              title=\"Convert this dataframe to an interactive table.\"\n",
              "              style=\"display:none;\">\n",
              "        \n",
              "  <svg xmlns=\"http://www.w3.org/2000/svg\" height=\"24px\"viewBox=\"0 0 24 24\"\n",
              "       width=\"24px\">\n",
              "    <path d=\"M0 0h24v24H0V0z\" fill=\"none\"/>\n",
              "    <path d=\"M18.56 5.44l.94 2.06.94-2.06 2.06-.94-2.06-.94-.94-2.06-.94 2.06-2.06.94zm-11 1L8.5 8.5l.94-2.06 2.06-.94-2.06-.94L8.5 2.5l-.94 2.06-2.06.94zm10 10l.94 2.06.94-2.06 2.06-.94-2.06-.94-.94-2.06-.94 2.06-2.06.94z\"/><path d=\"M17.41 7.96l-1.37-1.37c-.4-.4-.92-.59-1.43-.59-.52 0-1.04.2-1.43.59L10.3 9.45l-7.72 7.72c-.78.78-.78 2.05 0 2.83L4 21.41c.39.39.9.59 1.41.59.51 0 1.02-.2 1.41-.59l7.78-7.78 2.81-2.81c.8-.78.8-2.07 0-2.86zM5.41 20L4 18.59l7.72-7.72 1.47 1.35L5.41 20z\"/>\n",
              "  </svg>\n",
              "      </button>\n",
              "      \n",
              "  <style>\n",
              "    .colab-df-container {\n",
              "      display:flex;\n",
              "      flex-wrap:wrap;\n",
              "      gap: 12px;\n",
              "    }\n",
              "\n",
              "    .colab-df-convert {\n",
              "      background-color: #E8F0FE;\n",
              "      border: none;\n",
              "      border-radius: 50%;\n",
              "      cursor: pointer;\n",
              "      display: none;\n",
              "      fill: #1967D2;\n",
              "      height: 32px;\n",
              "      padding: 0 0 0 0;\n",
              "      width: 32px;\n",
              "    }\n",
              "\n",
              "    .colab-df-convert:hover {\n",
              "      background-color: #E2EBFA;\n",
              "      box-shadow: 0px 1px 2px rgba(60, 64, 67, 0.3), 0px 1px 3px 1px rgba(60, 64, 67, 0.15);\n",
              "      fill: #174EA6;\n",
              "    }\n",
              "\n",
              "    [theme=dark] .colab-df-convert {\n",
              "      background-color: #3B4455;\n",
              "      fill: #D2E3FC;\n",
              "    }\n",
              "\n",
              "    [theme=dark] .colab-df-convert:hover {\n",
              "      background-color: #434B5C;\n",
              "      box-shadow: 0px 1px 3px 1px rgba(0, 0, 0, 0.15);\n",
              "      filter: drop-shadow(0px 1px 2px rgba(0, 0, 0, 0.3));\n",
              "      fill: #FFFFFF;\n",
              "    }\n",
              "  </style>\n",
              "\n",
              "      <script>\n",
              "        const buttonEl =\n",
              "          document.querySelector('#df-8fcbc634-b64a-45a3-8b1a-a184532e3746 button.colab-df-convert');\n",
              "        buttonEl.style.display =\n",
              "          google.colab.kernel.accessAllowed ? 'block' : 'none';\n",
              "\n",
              "        async function convertToInteractive(key) {\n",
              "          const element = document.querySelector('#df-8fcbc634-b64a-45a3-8b1a-a184532e3746');\n",
              "          const dataTable =\n",
              "            await google.colab.kernel.invokeFunction('convertToInteractive',\n",
              "                                                     [key], {});\n",
              "          if (!dataTable) return;\n",
              "\n",
              "          const docLinkHtml = 'Like what you see? Visit the ' +\n",
              "            '<a target=\"_blank\" href=https://colab.research.google.com/notebooks/data_table.ipynb>data table notebook</a>'\n",
              "            + ' to learn more about interactive tables.';\n",
              "          element.innerHTML = '';\n",
              "          dataTable['output_type'] = 'display_data';\n",
              "          await google.colab.output.renderOutput(dataTable, element);\n",
              "          const docLink = document.createElement('div');\n",
              "          docLink.innerHTML = docLinkHtml;\n",
              "          element.appendChild(docLink);\n",
              "        }\n",
              "      </script>\n",
              "    </div>\n",
              "  </div>\n",
              "  "
            ]
          },
          "metadata": {},
          "execution_count": 31
        }
      ],
      "source": [
        "df"
      ]
    },
    {
      "cell_type": "markdown",
      "metadata": {
        "id": "dYDgUGfFdarN"
      },
      "source": [
        "**`Step 1. Text Prepocessing**`\n",
        "0. Convert all characters to lowercase.\n",
        "1. Remove digits       \n",
        "2. Extend Contractions\n",
        "3. Remove Punctuations       \n",
        "4. Remove ASCII characters\n",
        "5. Change Morphemes (all e's to i's and o's to u's)\n",
        "6. Remove Single Character String"
      ]
    },
    {
      "cell_type": "markdown",
      "metadata": {
        "id": "ygNhQvEl7Pqm"
      },
      "source": [
        "# **Data Preprocessing**"
      ]
    },
    {
      "cell_type": "code",
      "execution_count": null,
      "metadata": {
        "id": "i-8QWhRT11KB"
      },
      "outputs": [],
      "source": [
        "import string\n",
        "def convert_tolowercase(text):\n",
        "    for word in range(len(text)):\n",
        "        text[word] = text[word].lower()       \n",
        "    return text"
      ]
    },
    {
      "cell_type": "code",
      "execution_count": null,
      "metadata": {
        "id": "XkGvQZG7g4ZR"
      },
      "outputs": [],
      "source": [
        "#Remove the word with a number\n",
        "def remove_digits(text):\n",
        "    new_words = []\n",
        "    for word in text:\n",
        "        new_word=re.sub(r\"\\d+\", \"\", word)\n",
        "        if new_word != '':\n",
        "           new_words.append(new_word)\n",
        "    return new_words"
      ]
    },
    {
      "cell_type": "code",
      "execution_count": null,
      "metadata": {
        "colab": {
          "base_uri": "https://localhost:8080/"
        },
        "id": "0egKFAt5K7tm",
        "outputId": "34ef389b-9a58-4066-be75-36401a76955e"
      },
      "outputs": [
        {
          "output_type": "stream",
          "name": "stdout",
          "text": [
            "[nltk_data] Downloading package punkt to /root/nltk_data...\n",
            "[nltk_data]   Package punkt is already up-to-date!\n"
          ]
        }
      ],
      "source": [
        "import re\n",
        "import nltk\n",
        "\n",
        "nltk.download('punkt')\n",
        "import string\n",
        "from nltk.tokenize import word_tokenize\n",
        "#from nltk.corpus import stopwords\n",
        "#from nltk.stem.porter import PorterStemmer\n",
        "\n",
        "def clean_text(lines):\n",
        "    all_reviews = list()\n",
        "  #  lines = df[\"REVIEWS\"].tolist()\n",
        "    for text in lines:\n",
        "        text = text.lower()\n",
        "        \n",
        "        pattern = re.compile('http[s]?://(?:[a-zA-Z]|[0-9]|[$-_@.&+]|[!*\\(\\),]|(?:%[0-9a-fA-F][0-9a-fA-F]))+')\n",
        "        text = pattern.sub('', text)\n",
        "        \n",
        "        emoji = re.compile(\"[\"\n",
        "                           u\"\\U0001F600-\\U0001FFFF\"  # emoticons\n",
        "                           u\"\\U0001F300-\\U0001F5FF\"  # symbols & pictographs\n",
        "                           u\"\\U0001F680-\\U0001F6FF\"  # transport & map symbols\n",
        "                           u\"\\U0001F1E0-\\U0001F1FF\"  # flags (iOS)\n",
        "                           u\"\\U00002702-\\U000027B0\"\n",
        "                           u\"\\U000024C2-\\U0001F251\"\n",
        "                           \"]+\", flags=re.UNICODE)\n",
        "        text = emoji.sub(r'', text)\n",
        "        \n",
        "        text = re.sub(r\"i'm\", \"i am\", text)\n",
        "        text = re.sub(r\"he's\", \"he is\", text)\n",
        "        text = re.sub(r\"she's\", \"she is\", text)\n",
        "        text = re.sub(r\"that's\", \"that is\", text)        \n",
        "        text = re.sub(r\"what's\", \"what is\", text)\n",
        "        text = re.sub(r\"where's\", \"where is\", text) \n",
        "        text = re.sub(r\"\\'ll\", \" will\", text)  \n",
        "        text = re.sub(r\"\\'ve\", \" have\", text)  \n",
        "        text = re.sub(r\"\\'re\", \" are\", text)\n",
        "        text = re.sub(r\"\\'d\", \" would\", text)\n",
        "        text = re.sub(r\"\\'ve\", \" have\", text)\n",
        "        text = re.sub(r\"won't\", \"will not\", text)\n",
        "        text = re.sub(r\"don't\", \"do not\", text)\n",
        "        text = re.sub(r\"did't\", \"did not\", text)\n",
        "        text = re.sub(r\"can't\", \"can not\", text)\n",
        "        text = re.sub(r\"it's\", \"it is\", text)\n",
        "        text = re.sub(r\"couldn't\", \"could not\", text)\n",
        "        text = re.sub(r\"have't\", \"have not\", text)\n",
        "        \n",
        "        text = re.sub(r\"[,.\\\"!@#$%^&*(){}?/;`~:<>+=-]\", \"\", text)\n",
        "        tokens = word_tokenize(text)\n",
        "        table = str.maketrans('', '', string.punctuation)\n",
        "        stripped = [w.translate(table) for w in tokens]\n",
        "        words = [word for word in stripped if word.isalpha()]\n",
        "#         stop_words = set(stopwords.words(\"english\"))\n",
        "#         stop_words.discard(\"not\")\n",
        "#         words = [w for w in words if not w in stop_words]\n",
        "        words = ' '.join(words)\n",
        "        all_reviews.append(words)\n",
        "    return all_reviews\n",
        "\n",
        "#all_reviews = clean_text(data)\n",
        "#all_reviews[0:20]"
      ]
    },
    {
      "cell_type": "code",
      "execution_count": null,
      "metadata": {
        "id": "gD-PExoFlLNR"
      },
      "outputs": [],
      "source": [
        "contractions={ \n",
        "   \"adunay\":\"aduna may\",\n",
        "   \"agi'g\":\"agi ug\", \"agi'g\":\"agi ug\",\n",
        "    \"angay'ng\":\"angay nga\",\n",
        "    \"asa'y\":\"asa may\",\n",
        "    \"ato'ng\":\"ato nga\",\n",
        "    \"atoang\":\"atoa nga\",\n",
        "    \"aduna'y\":\"aduna may\",\"adunaha'ng\":\"adunahan nga\",\n",
        "    \"ako'y\":\"ako may\",\"apektado'ng\":\"apektado nga\",\"adlaw'ng\":\"adlaw nga\",\n",
        "    \"bahala'g\":\"bahala ug\",\"ba'y\":\"ba diay\",\"bali'g\":\"bali ug\",\n",
        "    \"bisa'g\":\"bisan ug\",\n",
        "    \"diay'g\":\"diay ug\",\"dako'ng\":\"dako nga\",\"duna'y\":\"duna may\",\"dayo'g\":\"dayon ug\",\n",
        "    \"dako'ng\":\"dako nga\",\n",
        "    \"du't\":\"duot\",\n",
        "    \"gagmay'ng\":\"gagmay nga\",\"ginagmay'ng\":\"ginagmay nga\",\n",
        "    \"gamay'ng\":\"gamay nga\",\"gamayng\":\"gamay nga\",\n",
        "    \"gyu'y\":\"gyud may\",\"gayu'y\":\"gyud may\",\"gyuy\":\"gayud may\",\"g'yuy\":\"gyud may\",\n",
        "    \"g'yud\":\"gayud\", # \n",
        "    \"iro'ng\":\"iro nga\",\"kanato'ng\":\"kanato nga\",\"inadlaw'ng\":\"inadlaw nga\",\n",
        "    \"gihimong\":\"gihimo nga\", \"nahimong\":\"nahimo nga\",\"nakahimong\":\"nakahimo nga\",\n",
        "    \"iyang\":\"iya nga\",\n",
        "    \"kini'g\":\"kini ug\",\n",
        "    \"kita'g\":\"kita ug\",\n",
        "    \"la'g\":\"lang ug\",\"langyaw'ng\":\"langyaw nga\",\"hinuo'y\":\"hinuon may\",\"mo'g\":\"mo ug\",\n",
        "    \"maghimo'g\":\"maghimo ug\",  \n",
        "    \"mangita'g\":\"mangita ug\",\n",
        "    \"mura'g\":\"mura ug\",\"magkunsumo'g\":\"magkunsumo ug\",\"makapaagni'g\":\"makapaagni ug\",\n",
        "    \"mangita'g\":\"mangita ug\",\n",
        "    \"mipasaka'g\":\"mipasaka ug\",\n",
        "    \"pagpangita'g\":\"pagpangita ug\",\n",
        "    \"mi'g\":\"kami ug\",\"mo'y\":\"mo may\",\"mao'y\":\"mao may\",\"magmaneho'g\":\"magmaneho ug\",\n",
        "    \"magsigeg\":\"magsige ug\",\n",
        "    \"milabay'ng\":\"milabay'ng\",\"maayo'ng\":\"maayo nga\",\"inantigo'ng\":\"inantigo nga\",\n",
        "    \"nahibu'ng\":\"nahibulong\",\n",
        "    \"nahuptan'g\":\"nahuptan nga\",\n",
        "    \"madutla'g\":\"madutlan ug\",\n",
        "    \"mura'g\":\"mura ug\",\n",
        "    \"nakalabay'ng\":\"nakalabay nga\",\n",
        "    \"nila'g\":\"nila ug\",\n",
        "    \"naghimo'g\":\"naghimo ug\",\"nahimong\":\"nahimo nga\",\"naninda'g\":\"naninda ug\",\n",
        "    \"nganong\":\"ngano nga\",\"nagbato'g\":\"nagbaton ug\",\"kahimoa'g\":\"kahimoan ug\",\n",
        "    \"kagagmayg\":\"kagagmay ug\",\n",
        "    \"ko'y\":\"ko may\",\n",
        "    \"ko'g\":\"ko ug\",\n",
        "    \"kagahig\":\"kagahi ug\",\"kanato'ng\":\"kanato ang\",\n",
        "    \"kinig\":\"kini ug\",\n",
        "    \"kita'g\":\"kita ug\",\"kaayo'y\":\"kaayo may\",\"kaugalingo'ng\":\"kaugalingon nga\",\"kaha'y\":\"kaha may\",\"kanunay'ng\":\"kanunay nga\",\n",
        "    \"na'y\":\"naa may\",\"nagbato'g\":\"nagbanton ug\",\"nga'n\":\"ngalan\",\n",
        "    \"nangita'g\":\"nangita ug\",\n",
        "    \"naa'y\":\"naa may\",\"ni'ng\":\"niini nga\",\"niini'ng\":\"niini nga\",\"na'g\":\"na ug\",\"naasoy'ng\":\"naasoy nga\",\n",
        "    \"nagpatugatuga'g\":\"nagpatugatuga ug\",\"na'g\":\"na ug\",\n",
        "    \"ni'g\":\"kini ug\",\"negatibo'g\":\"negatibo ug\",\"gagmay'ng\":\"gagmay nga\",\n",
        "    \"ordinaryo'ng\":\"ordinaryo nga\",\n",
        "    \"panumba'y\":\"panung sa balay\",\n",
        "    \"pu'y\":\"pud diay\",\"paghimo'g\":\"paghimo ug\",\"pagmaneho'g\":\"pagmaneho ug\",\"pila'y\":\"pila may\",\n",
        "    \"pa'y\":\"pa may\",\"patay'ng\":\"patay nga\",\"pa'ng\":\"pa nga\",\"piniliay'ng\":\"piniliay nga\",\n",
        "    \"paghimo'g\":\"paghimo ug\",\"pagkao'g\":\"pagkaon ug\",\n",
        "    \"pordoy'ng\":\"pordoy nga\",\"pagsige'g\":\"pagsige ug\",\"pagpamaligya'g\":\"pagpamaligya ug\",\n",
        "    \"ra'y\":\"ra may\",\"ra'g\":\"ra ug\",\"sila'g\":\"sila ug\",\n",
        "    \"selyula'ng\":\"selyula nga\",\"sa'y\":\"sab may\",\n",
        "    \"sila'y\":\"sila may\",\"siya'y\":\"siya may\",\n",
        "    \"tawhano'ng\":\"tawhanon nga\",\"tawhanong\":\"tawhanon nga\",\n",
        "    \"ta'y\":\"ta may\",\"ta's\":\"ta sa\",\n",
        "    \"uban'g\":\"uban nga\",\"usa'y\":\"usa may\",\"unya'g\":\"unyag ug\",\n",
        "    \"unsa'y\":\"unsa may\",\"unta'g\":\"unta ug\",\"usa'g-usa\":\"usa ug usa\",\n",
        "    \"wala'y\":\"wala may\", \"wa'y\":\"wala may\",    \n",
        "    # the danger of the shortened words is there presence as a substring in the textual unit when replaced: \n",
        "    #\"wa\":\"wala\",\n",
        "    #\"way\":\"wala may\" \"mi'g\":\"mi ug\",\"mi\":\"kami\", \"kog\":\"ko ug\", ,\"koy\":\"ko may\",\"kitag\":\"kita ug\"\n",
        "    #\"ko\":\"ako\",\"murag\":\"mura ug\", \"pay\":\"pa may\",\"naay\":\"naa may\",\"nig\":\"ni ug\",\"ni\":\"kini\",\"sab\":\"usab\",.\n",
        "}\n",
        "\n",
        "def cont_to_exp(text):\n",
        "    new_words=[]\n",
        "    for word in text:\n",
        "        if type(word) is str: \n",
        "    #To do: The word must be a distinct string NOT as substring to avoid repetition Ex. wa = wala <> kawawa should be kawawa not kawalawala\n",
        "      #pattern = re.compile(r'\\b[\\w]\\b')\n",
        "          for key in contractions:\n",
        "            value =contractions[key]\n",
        "            word = word.replace(key,value)\n",
        "        new_words.append(word)\n",
        "            \n",
        "    return new_words\n"
      ]
    },
    {
      "cell_type": "code",
      "execution_count": null,
      "metadata": {
        "id": "J78CRZq69LjZ"
      },
      "outputs": [],
      "source": [
        "import unicodedata\n",
        "def remove_non_ascii(text):\n",
        "#\"\"\"Remove non-ASCII characters from list of tokenized words\"\"\"\n",
        "    new_words = []\n",
        "    for word in text:\n",
        "        new_word = unicodedata.normalize('NFKD',word).encode('ascii', 'ignore').decode('utf-8', 'ignore')\n",
        "        new_words.append(new_word)\n",
        "    return new_words"
      ]
    },
    {
      "cell_type": "code",
      "execution_count": null,
      "metadata": {
        "id": "UpNi_2D7-rX-"
      },
      "outputs": [],
      "source": [
        "import re\n",
        "import string\n",
        "#nltk.download (\"punkt\")\n",
        "\n",
        "def remove_punctuations(words):\n",
        "#Remove punctuations make sure all are removed\n",
        "    new_words = []\n",
        "    for word in words:    \n",
        "        \n",
        "       # new_word = re.sub(r\"[-()\\\"#/@;:<>{}=~|.?,&$]!\", \"\", word)\n",
        "        new_word = re.sub('[%s]'%re.escape(string.punctuation),'',word)\n",
        "       # if new_word != '':\n",
        "        new_words.append(new_word)\n",
        "    return new_words"
      ]
    },
    {
      "cell_type": "code",
      "execution_count": null,
      "metadata": {
        "id": "6xHTgHWa_ZR5"
      },
      "outputs": [],
      "source": [
        "#remove a single character!!!\n",
        "def remove_singleCharString(words):\n",
        "     new_words = []  \n",
        "        \n",
        "     for word in words:\n",
        "       new_word=re.sub(r\"(^| ).(( ).)*( |$)\",' ',word) #(^| ).( |$)\n",
        "       if new_word !='':\n",
        "            new_words.append(new_word)\n",
        "     return new_words\n"
      ]
    },
    {
      "cell_type": "code",
      "execution_count": null,
      "metadata": {
        "id": "GpUlXXoG3oKT"
      },
      "outputs": [],
      "source": [
        "# Calling all the Preprocessing Procedures to make a clean textula representation of the data\n",
        "#def clean_data(words):   \n",
        "  #words = change_bisayavowels(words)\n",
        "#df['REVIEWS']= df.REVIEWS.astype(str)\n",
        "text = df.REVIEWS.to_list()\n",
        "text = remove_digits(text)\n",
        "text = clean_text(text)\n",
        "text = cont_to_exp(text)\n",
        "text = remove_non_ascii(text)\n",
        "text = remove_punctuations(text)\n",
        "text = remove_singleCharString(text)\n",
        "text = convert_tolowercase(text)\n",
        "df['REVIEWS']=pd.Series(text)\n",
        "#df.head()\n",
        "#  return words\n"
      ]
    },
    {
      "cell_type": "code",
      "execution_count": null,
      "metadata": {
        "id": "Xkmxl5kU3wyY"
      },
      "outputs": [],
      "source": [
        "\n",
        "\n",
        "#review_Text=[sentence.split() for sentence in df['REVIEWS'].to_list()]\n",
        "#review_Text=[str(words).lower() for words in review_Text]\n",
        "#review_Text\n",
        "#define parameters\n",
        "#output_dir = os.chdir(\"/content/drive/MyDrive/Colab Notebooks/data\")\n",
        "# Dummy data. There is nothing to learn in this example.\n",
        "#num_samples, time_steps, input_dim, output_dim = 5, 3, 1, 1\n",
        "#data_x = np.random.uniform(size=(num_samples, time_steps, input_dim))\n",
        "#data_y = np.random.uniform(size=(num_samples, output_dim))"
      ]
    },
    {
      "cell_type": "markdown",
      "metadata": {
        "id": "8eLDwmAs8Ao-"
      },
      "source": [
        "<p>Text processing and normalization is crucial prior to building a proper NLP model. \n",
        "Preprocessing includes some important steps like changing words to its lowercase form, removing stopwords, punctuations, numbers, special characters/symbols for the text and changing characters from 'e' to 'i' and 'o' to 'u'. Then normalizing what is left into salient word. Normalization includes stemming which removes suffixes and prefixes from word roots and lemmatization which maps the root forms back to an actual words in the natural language.\n",
        "These process all together to identify a canonical representation for a set of related word forms allowing us to assess these independent of morphological variations.\\n</p>\n",
        "\n",
        "When to Stem and Normalize?\n",
        "https://towardsdatascience.com/text-normalization-for-natural-language-processing-nlp-70a314bfa646"
      ]
    },
    {
      "cell_type": "markdown",
      "metadata": {
        "id": "zbfSCOMWyAGg"
      },
      "source": [
        "When we normalize text, we attempt to reduce its randomness, bringing it closer to a\n",
        "predefined “standard”. This helps us to reduce the amount of different information that\n",
        "the computer has to deal with, and therefore improves efficiency theat will yield better estimates of the known words. \n",
        "The goal of normalization techniques like stemming and lemmatization is to reduce inflectionalforms and sometimes derivationally related forms of a word to a common base form.\n",
        "\n",
        "Getting better value from text normalization depends more on pragmatic issues of word use than on formal issues of linguistic morphology.\n",
        "Even though text normalization is considered pretty solved for modern languages such\n",
        "as English, there exist many (e.g. historic) languages for which the problem is harder to\n",
        "solve, due to a lack of resources and unstable orthography.\n",
        "All preprocessing does not require normalization for the eventual model or application\n",
        "to be effective, and it may actually impede the success or accuracy of the model or\n",
        "application. We need to ask ourselves: is important information being lost by\n",
        "normalizing? Or is irrelevant information being removed?\n",
        "- Text Normalization for Natural Language\n",
        "Processing (NLP)\n",
        "Stemming and lemmatization with Python\n",
        "Diego Lopez Yse"
      ]
    },
    {
      "cell_type": "code",
      "execution_count": null,
      "metadata": {
        "colab": {
          "base_uri": "https://localhost:8080/"
        },
        "id": "_-ZeGESfLjcv",
        "outputId": "a8f649a9-9449-4897-e509-5a7d9930c2ab"
      },
      "outputs": [
        {
          "output_type": "execute_result",
          "data": {
            "text/plain": [
              "1    23384\n",
              "0    23375\n",
              "Name: POLARITY, dtype: int64"
            ]
          },
          "metadata": {},
          "execution_count": 41
        }
      ],
      "source": [
        "df.POLARITY.value_counts()"
      ]
    },
    {
      "cell_type": "code",
      "execution_count": null,
      "metadata": {
        "id": "z2P6iuYx0O1K"
      },
      "outputs": [],
      "source": [
        "#lseries= df['REVIEWS'].squeeze()\n",
        "#reviewlist=clean_data(df['REVIEWS'].squeeze())\n",
        "#print(reviewlist)\n",
        "#df=pd.DataFrame(reviewlist, columns=['REVIEWS'])   #df = pd.DataFrame({'REVIEWS':ls})"
      ]
    },
    {
      "cell_type": "markdown",
      "metadata": {
        "id": "Crz-dDElmTHm"
      },
      "source": [
        "# **Preparing the Embedding Layer**"
      ]
    },
    {
      "cell_type": "markdown",
      "metadata": {
        "id": "fP7fS276tSZ9"
      },
      "source": [
        "**1. Build the word-to-index Vocabulary**\n",
        "\n",
        "The first step is to build a vocabulary of unique words. The Tokenizer() method is used to build a word-to-index sort of dictionary. In the word-to-index dictionary, each word in the corpus is used as a key, while a corresponding unique index is used as the value for the key. This vocabulary is configured only to take into account the most common 40000 words, hence, our very own dictionary can store only this maximum number of words. \n",
        "\n",
        "Our model dictionary will categorize an Out-Of-Vocabulary for a new word that has not seen before. An oov_token, <OOV\\> is used to replace the out of vocabulary words. "
      ]
    },
    {
      "cell_type": "code",
      "execution_count": null,
      "metadata": {
        "id": "OZtc2E-tHKWF"
      },
      "outputs": [],
      "source": [
        "from keras.preprocessing.text import Tokenizer\n",
        "\n",
        "sentence_length = 50  # length of the input sentence \n",
        "vocabularySize = 30000 #this is the maximum number of words we can store in our very own dictionary of sorts.\n",
        "\n",
        "tokenizer = Tokenizer(num_words = vocabularySize,oov_token=\"<OOV>\")\n",
        "\n",
        "#Build the word index by turning the words into numeric tokens \n",
        "#from the set of sentences, fitted to the training dataset.\n",
        "tokenizer.fit_on_texts(df['REVIEWS']) #Set the index from the dictionary of each word\n",
        "wordIndex = tokenizer.word_index  # each word has a unique index\n",
        "\n",
        "#Get our word index and findout the vocabulary of the dataset by Convert all the words in our sentences into a dictionary of sorts (word_index) which allots individual tokens to each words.\n",
        "print('Found %s unique tokens.' % len(wordIndex)) # show vocabulary size= 50796  :) :) 45597 44171 tokens\n",
        "wordIndex # print the word token and the respective integer\n",
        "#wordIndex['abogasiya']"
      ]
    },
    {
      "cell_type": "code",
      "execution_count": null,
      "metadata": {
        "id": "DomoxVjEaZg6"
      },
      "outputs": [],
      "source": [
        ""
      ]
    },
    {
      "cell_type": "markdown",
      "metadata": {
        "id": "OXrpfhFRXP-b"
      },
      "source": [
        "**2. Split the Dataset into Training Set and Testing Set**"
      ]
    },
    {
      "cell_type": "code",
      "execution_count": null,
      "metadata": {
        "colab": {
          "base_uri": "https://localhost:8080/"
        },
        "id": "UGBUnwWWZUN7",
        "outputId": "0249f383-fe93-45c7-9a05-aa24e9075f9e"
      },
      "outputs": [
        {
          "output_type": "stream",
          "name": "stdout",
          "text": [
            "Training Samples: 42083\n",
            "Test Samples:     2338 \n",
            "Validation Samples:2338 \n"
          ]
        }
      ],
      "source": [
        "from sklearn.model_selection import train_test_split\n",
        "\n",
        "#X=dataSet['REVIEWS'] #the independent/predictor variable\n",
        "#y=dataSet['POLARITY'] #the dependent/outcome variable\n",
        "\n",
        "# Divide/Split the dataset into Train and Test \n",
        "X_train, X_temp_test, y_train, y_temp_test = train_test_split(df['REVIEWS'].values, df['POLARITY'].values, test_size=0.10) #, random_state=42\n",
        "\n",
        "#Number of samples after split or Data Shape\n",
        "#The TRAINING Dataset Shape\n",
        "print(f'Training Samples: {len(X_train)}')  #{X_train.shape,y_train.shape}\n",
        "#print(f'Tentative Test Samples: {X_temp_test.shape, y_temp_test.shape}')\n",
        "\n",
        "#The VALIDATION and TEST dataset Shape\n",
        "X_validation,X_test,y_validation,y_test = train_test_split(X_temp_test,y_temp_test,test_size=.50)\n",
        "print(f\"Test Samples:     {len(X_test)} \")        #print(f'New Test dimensions: {X_test.shape, y_test.shape}')\n",
        "print(f\"Validation Samples:{len(X_validation)} \") #len(y_validation)}   print(f'Validation dimensions: {X_validation.shape, y_validation.shape}')\n",
        "\n",
        "\n",
        "#average_length=np.mean([len(x)for x in X_train])\n",
        "#median_length = sorted([len(x) for x in X_train])[len(X_train)//2]\n",
        "#print(\"Average sequence length\",average_length) #The number of characters of a sentence\n",
        "#print(\"Median Sequence Length\", median_length)\n",
        "#print(\"Review length {}\".format(len(min((X_train + y_train),key=len))))\n"
      ]
    },
    {
      "cell_type": "markdown",
      "metadata": {
        "id": "2Fnt6rktcK-s"
      },
      "source": [
        "**3. Convert the dataset into Sequences**\n",
        "<br>Create the sequences of tokens representing each sentence. Encode/Convert the data (sentences) into sequences by turning strings into a list of integer indeces. With the numbers/indeces being tokens representing words. The sequences are indeces of each word. Remember: This will serve as input to the Embedding Layer.\n",
        "<br>Example:<br>\n",
        "![Sample1.PNG](data:image/png;base64,iVBORw0KGgoAAAANSUhEUgAAAkAAAAA2CAYAAAAvfibDAAAAAXNSR0IArs4c6QAAAARnQU1BAACxjwv8YQUAAAAJcEhZcwAADsMAAA7DAcdvqGQAABDTSURBVHhe7Z0JbuS6DkX/VnppWUyh1xL0UhpZxwN6E/kiJdmcNHhKUuV7AAOvPFDk5WAlneT97xMAAAAA4GZgAwQAAACA24ENEAAAAABuBzZAAAAAALgd2AABAAAA4HZgAwQAAACA24ENEAAAAABuxw/cAH18Pn79+vz19v75r5zZwr8/b5+/0vOPv+UEeFo+fqc6oFo4UA8AAADaqDn7+6OcvQfbNkB/H6tQ6nikbctZPOcGSBURHTcrpCsgTd/+DKqg1qTU29apy0WpseUw9auef/t8/6+cP8y/z/c3uW7bdq0nVcf/vX++Lc+W47Q6M76dXL+1L+vh86pzcn7/1vgizfszpzdTrtykd22bWvC+aT2t3v18XFsLRI6t01s1PhX3XP8o3arvUe/QcWXOTtatZVudT4euhfmZwzVxQa5/Mju/A5RFHb6cbgIXzsmNBHJj92uMhvzb5+N3r3FtrebPckjwAFmeJ5vrhii/KM7c4At4oxXYpvNvj8+H8ZOH+EV1RnGuGuWX52n9zfEIv/llJAZxeTlFG4yzyMM9aWpfACUH72EP19p5Zz2sf7bvdR0dhPxabJWXmPos4uAYZFym5q2+g3xcWgvF3iNpqmpAUXo05as7V0vuVsWtTn1OzdfGtbexwbbtLYvTbCX3yBX+/1xO3gCVwk2Ntu5KTTI4AfWaHiqcgHrNJaK8mEoz8z2qOXJj5ed9AdSmXv3Sa+vn69EppIWWFpJSwNVuGJu4no7qmytKjj9o+vqssj3SjDDPm+ZQOYkap9g+b0CuUK56dusAGzWutkOa6Lx2nx8NlCO4XBK5Fh5/115aoPt7L4QTqdqegddX54DW0r14MksObe7T56In+2i0pXPZr5oTPl0IzoX5PIfIvxXjS/CSk/kc5cNyZi18pC9WeJ1OXy2x2o2axepN90/72Y95M5vW3siZcXVq1NfF63PJBohelvWabp6UHClw0KhEnIjc5Ov9+bMfnHEBsE3h19Jk/Mn4yUUyP5StbYvWwGoXf65rOy1MAfdtjzQr+XJaF0x+rGZM0aoV+xEotqZd4ZvTSOHrgTWrcY1yzddPHJSCyO81n7oOGPKl90I4EV1XBzE1wraXOEp+/lA+KS8iN6cgeyKeDURY2wu2b4jIVtv+Ubb4Z+uKP5Ou9fluPjyn1kKl1VfyPPV4xy8bJ/lZv1tXa6nV1/bZo2xZeyubbG/UTHK2Js/ANRsgKWI3IfHAiBPh782FYS1P2uRG628MvO0OZahwgap4ybYZ6FITp49+8Y397tjm6x3N6N7Oy4bu1Y0Wa3sVcX6JgUYJPlfz4WopwbHT9V48QT0fJtdauLbKrY6RkTXGRzt3h2Btzs5z0ZL8dvWsz1He2zNjI4N+qHC9NNfMOdO9UPy0fl/RH0Uju37F6rX0Q61xuqZqi2jkw3JJLSTYH29X9bzKXaXVPzUeEWPT97Pn2Ja1tzJjW+QyHb5OOjNHEM3RV+eyfwJrkYeEPHxC4kT4olXNshAXt7OpBkIpoHq90ZxzmIItw0vHnI7a2K7JtYZdv0e2B5qxbTdgKjUOe+zVZTtxfr0mcb2s2Di5BqX+Ka5oHXXfJeTBlHNte8d+9nBccjCeQamp3rqbUTaj/jAxROd2Yes/ng1EvxdkniT5fO2Nx1/6fHI+yhpRfRJRDeRzpnblnOnlQ3JFLVTYtsmFnYVuNlpkXqJ+iXuon+s9zK+9na2287VWvbRrOT1JunTm6CvypRsg36yUDD+Q4kT4e8/bAGVbdZDR0S6gCWRzm3UchzdAHduBFkqz7oDp5/IriPOb/ZK5Wg+fd8ZpZu4jHYyOuR562p7DEiP7ZeMpRytHw/xvpPhwqPYDWEvVz3J+BP16VlycV6NlPcx84T5r9gL5ONEL5PepL9a8rp+FmTxPg5oP6lnOkX4+ChfVwgLb97MpzFU6Wtov/WP+OxPNsMlcbmRu7X1ste3eGQZvLzN67hX5+g2QGBCUiB/xHaCzBm6B11rsZU2ahWUGQdZk1VBrVgbirG2+v6dZthc1A6HjaHDhoGw1qiWulxXWtF4v/soa5euuLvtx53sODjiTe02/l5q5L/G1X+YNZvK407bV1+ZA5SdhPzN1M9PJ85h4NhC6zyy5T7q5buVybz7Kmq14c2+2asc+q/0f5aN+7tbC0Xy09JLQGj3drA278WttBHs298Y1sfalthcGtdrRfTRHX5Ev/iew0pjlyD/YVZNRBrq4zodqYp04auTFh1pc6ljvd8nlQliLiIeCeX7m5WtjyoctTh+btJ2HWT3/YTSUz6Z4/mq/+7YHmjHWf+279I0POzxmhuVOvK8xNrfOZ9vUtlaCl4G6TkfDxra4rdY6NxrfSzaueO1aD60BGRPVv/dvn+31ufXQM8Jct1ozRbvey2uI7QfvFx91jXCmrL7rfLQ02aeZq+Fy5LVtHZVDaaPv6eptrs/Vwr58xHE1+oD078QUPdfNSeltrYVlX1zEuB6usD3qrbFmFV4j7L3XZecG6MUwmyGGz7WL5TpyQfeb9B7MboC+halh+j3wC2zHkJ3hStt9yqB/wgH9fZpdyfPmo8+Vcf1szbABuiv8lZ7eAOUdd7SLvxpsgCo/cwNUhthP3PzU71hc8bK90vaA5avfZxvO36jZlTxtPgZcGdczaMY+YgN0T/irNCrQ5fiOzQ+BDVBF5eTlvoIGAIDvR81ZbIAAAAAAAF4bbIAAAAAAcDuwAQIAAADA7cAGCAAAAAC34wdugPb/rQSi/rQ9foj4mTn4g+Dqb/l81w+zF9zfMnlmjvXmd8DzAD9Afz61xy7+odkzfxN0+U2sPX6f2sf4RZefwrYNUP21Tnec+ZJ5zg2Q+y2yMwfDS71EZzhpQER/3+mrcbl75uGHDdC5PHEtPOEGqMI1gQ0QSOz8DlBO4I/9I3VfzOVDFhugfWADdHuwAXpusAECV3LyBmhN7PodEfPXlKmQ6ndJ0iGLgAuzXnMFSl99ppeZ/OcNVZDlq1M+4j+RTv7K79ToApTP12PmL0G3tJDkexa7KrZOXPKcOuRLfaftBfO82TConJhrTLF97pCqdSRzYtc2+YoGGvsW+Gxj3jrYOjVMaM1W++67hOWQ2tlntw3Jfi5Hfvfo9WbuLfrf2pQ16zrivnZc5DP1WSfXYR9EefXwuiK/NQd5/VpnfInh+8nvVu2YF6GOS8+L+vKW99S1rq2Fib4fzGHyozUr5XnX94tuIp9m7Z5m6aqpYbOGrYWo7wfw+u458jfOH1Py/iF8t7HrnNq4zLxKx2w+nb+uNr3tuXfXONcuH7aObD74EL616ozO/34vtpOv/L94Sv+92B/XsK6jeT0ll2yAyJl6jYVdkpeCkolkcWQiM+0CJdv1/vzZB03nffKrWNUv/iwEVX4W0TcVqLBt0RpY7SbiKs0XWT9mu+TLaV0w+bGaMUWrVuz7qHVU82jjorhl3QSaEW5QZP79eYj68Lb7pLWkXraGo89Ks7xeWFuhrblBRsR9Uxn4PUm0Rq5/8rPkjeKV2nfjGuXafN6jSdGfe2WQizU+qqlgHVq/2kgxPkTdyLUIXo/6r+hlr0frL3Q1G5H7YX3eatqvhZzP9X7vd4bic31T5sHqa/ZliXFGM+GbXsPYKp+dDwN4TVPD2ZbWV63NGgnfIs1EHFnDlv6dvAc4f81cU5oV/TfZlhq6uHqz0nx2Ndqps6In+cn+83mZg5zbpobGT7/2HNdsgGzQQfNkfNERuwp0YdKmKqIs9lo0rfg6LI2fDhUv2RaJIpQmE3E1NTxom4vGPC+ge3UjeXvXkPWXa8c1sRLWghkULUa2+0hNvN8+d8E9TFxzcY3H5GE2jjezL5eRVus5Edui/Sgur4dag+1IP8nvSL8YtpX0f0/r+R7qrU3XyrqijqL4F0y9UYxqTVePfv3MSLMRPrddv8397l7nd6bdczqmrt/SdrCOfLbmUllqzsY2sRZeM+W3W0feH9WkyO30DIjp58OuHddOC6+F10Gi7mc/5L2RDhJhW2iy6izX9n6sax/tj5XL/gmsBTnJm4Tl8GLvKtAFfx/RL6LsdzuxWyi2VFPLeMuxNMREXK0mP2ibNYnsMjUOe+zVZQu+jlz+SBPjm6sFlWNBpJurtzbtGg7qf3r4xefjGm8jfbPPtf2eJ+rN9ZyIYdF+FJe/rtegGhaxcN6DnDZgWyVer2N/bfKRrtFXwY/f+Sthur7ayc9rTVffxrmLtWmdH9ur+L7nuEQd9mpB659o9FHoT6vnFjqaBc/KNZxfRGs2dgjtBJqp+Nw68n7/bI2Tczg9A2L6+Sh61ut8zfrSxmuR+23xje2ZfC3353uVRkH+1LPVN6HJqnNfU/aVnznaHytfugHiAJRAUeFESSH8vXHAkzZNs9lEbRVSIYvQrOOZiKvV5Edtt+wy25r0XPzaKn+lKeX1sBZCfUgTfW9cbzH9Gg40mx5++byOITo3i46z7/c8kVbrORHbov0oLvFMQa+Rr8ve9Nq1YVukf1Azo7Xpv9/+fKR7UhzpefqnG6qzej/PDJlbU29hTSr8+hmpTyU618Ln1sbVqwV5LxP2USO+xr2VrmbBs3IN9svMq+jcCBcf4zVT8bk+lvfTf9s8inPTMyBmlA/WtPQGHXM1kvFa+LikPX1/jkOuLWPie1U+hW2hyaqzXVvnY137aH+sfP0GSBRCTpwOkvBJIbwgqkAX/H2EszlovCPoxJcicfFUJuJi/3xMx23T9XbR6DgasG9tG/vwdaTyZ/WgZop8CPOaY15sF//bGmrYj04N82flZ/qshp+5R+D05rj21qXu0ZHfs6g8FNZzIm9C+35cg1y7l8c2VNy8roxZa1TrqK5Nz/IPd/PnVDdpI/So/yxGZ1Qesy0ZJ10f9cU1tWD6vtRh1VhpkrC1oPQnwj5qxNe4t9LXTPdm1kCsYeKw98/i4mMGa7s61BpzXOK60pj9Nvdu8FvZKn4umg30HmG10HEYfYv+y/2D3tR+17iLDuJZOp91lppqfW3uc35E3Jv6Y+WL/wmsJi8f+TdHapC1GcyxJMcIkliFS7AA9vn1fptoWzi1KOXh44vQMeXDJsLHttoexFXICY/sH7Vt/de+63XTYQu+FOacVrP4OrL5U/lKPtHPeFQfnM98rHFZLd+N7T5aL13DhLye1iR93JCwNtar2jeduz5B/6iYRn736PfmmhuRN9Nf7bhGuY7Xbs8YDdsS+lc/Fs1L/bLddB//lk9du8yUulauOdEf8lm6L2lqZ8q4L66oBW2TDq1Xvxa0/gmVS28725B6Co0sA83UHE8+kC9KQ/P8WN9Kv4YZs7bKH11TfUw66JyomWQ0kLkkm3TvbA1r39Oa/BtTus7WdfMxq4uusXSYWaWv21k56s1OnQk9V52lpr7OrF7aN52LWXZugF6MqGn53D5RAQAn4V48CX5RdV6yt8e/nMGLcvDdxZsIuQncwqW9+TU1jA0QESQt7y4xZAH4TrgPzZDlr3jt4AUCbIBuw8F315EN0LW9iQ3Ql+K/jYjNDwDfT/Btdmx+BmADdCeOvLuObICu7U1sgAAAAAAALgEbIAAAAADcDmyAAAAAAHA7sAECAAAAwO3ABggAAAAAtwMbIAAAAADcDmyAAAAAAHA7sAECAAAAwO3ABggAAAAAtwMbIAAAAADcDmyAAAAAAHA7sAECAAAAwO3ABggAAAAAtwMbIAAAAADcDmyAAAAAAHA7sAECAAAAwO3ABggAAAAAN+Pz8//zw7pFcBqEsAAAAABJRU5ErkJggg==)"
      ]
    },
    {
      "cell_type": "code",
      "execution_count": null,
      "metadata": {
        "colab": {
          "base_uri": "https://localhost:8080/"
        },
        "id": "iK1a3HeRxXLv",
        "outputId": "baaafe35-9fa3-49ac-ec20-8ab31198e02c"
      },
      "outputs": [
        {
          "output_type": "stream",
          "name": "stdout",
          "text": [
            "Training Sequence:  [4, 51, 807, 22, 4, 3199, 2, 767, 2, 75, 8012, 2, 85, 2, 70, 66, 1810]\n",
            "Training Sentence:  ang akong gipasabot mao ang alarma sa sunog sa barangay calamba sa dakbayan sa sugbo niadtong miyerkules\n"
          ]
        }
      ],
      "source": [
        "training_sequences=tokenizer.texts_to_sequences(X_train)     #=> training_sequence=np.asarray(tokenizer.texts_to_sequences(df['REVIEWS'].tolist())) #same as above\n",
        "validation_sequences=tokenizer.texts_to_sequences(X_validation)\n",
        "testing_sequences=tokenizer.texts_to_sequences(X_test)\n",
        "\n",
        "#Show the new sequence and its equivalent sentence\n",
        "print('Training Sequence: ',training_sequences[4])\n",
        "print('Training Sentence: ',X_train[4])\n",
        "#print('Testing Sequence',testing_sequences[101])\n",
        "#print(str(tokenizer.texts_to_sequences([\"fall gipadamgu\"]))) #=> results to [1,1] an example of out of vocabulary"
      ]
    },
    {
      "cell_type": "markdown",
      "metadata": {
        "id": "9drhNCynfIHL"
      },
      "source": [
        "**4. Padding the sequence for a uniform Length**\n",
        "<br>Make all of the sequences/sentences uniform in length through padding a sequence of 0s!<br>Example<br>\n",
        "![Sample2.PNG](data:image/png;base64,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)"
      ]
    },
    {
      "cell_type": "code",
      "execution_count": null,
      "metadata": {
        "id": "zXMYt1Wpx7ne"
      },
      "outputs": [],
      "source": [
        "#from keras.preprocessing import sequence\n",
        "from keras.preprocessing.sequence import pad_sequences\n",
        "\n",
        "padded_training = pad_sequences(training_sequences,maxlen=sentence_length,padding= 'post',truncating='post')\n",
        "#T=padded_training.shape[1]\n",
        "#y = np.asarray(y_train)\n",
        "#print('Length of the training sequence is',T)\n",
        "#print('shape of label tensor',y.shape)\n",
        "#print('Padded sentence',padded_training[101])\n",
        "\n",
        "padded_validation = pad_sequences(validation_sequences,maxlen=sentence_length,padding= 'post',truncating='post')\n",
        "#print('The length of the validation sequence is',padded_validation.shape[0])\n",
        "#print('Padded sentence',padded_validation[101])\n",
        "\n",
        "padded_testing = pad_sequences(testing_sequences,maxlen=sentence_length,padding= 'post',truncating='post')\n",
        "#padded_testing = pad_sequences(testing_sequences,maxlen=T,padding= 'post',truncating='post')\n",
        "#print('The length of the testing sequence is',padded_testing.shape[0])\n",
        "#print('Padded sentence',padded_testing[101])"
      ]
    },
    {
      "cell_type": "code",
      "execution_count": null,
      "metadata": {
        "colab": {
          "background_save": true
        },
        "id": "VWJ9PFABsc5Q"
      },
      "outputs": [],
      "source": [
        "#for seq in padded_testing: print(np.array(seq).shape)"
      ]
    },
    {
      "cell_type": "markdown",
      "metadata": {
        "id": "hNTGLnrdgRP6"
      },
      "source": [
        "**5. Load the (Pre-trained) Bisaya Word Embeddings** <br>\n",
        "One of the most important technology and common denominator in all NLP use-cases is the mapping of words to a set of real numbers--vectors. The Word embeddings are vector representation capable of capturing the meaning of word in a document, semantic and syntactic similarity, relationship with other words. A way of converting the Bisaya words to numerical values is to use word2vec. Word2vec maps each word in a multidimensional space. It does by taking into account the context n which a word appears in the texts.As a result, words that are similar are close to each other in the multidimensional space. To relative embeddings of 300-dimension is learned from training using the Word2Vec skip-gram model. \""
      ]
    },
    {
      "cell_type": "code",
      "execution_count": null,
      "metadata": {
        "colab": {
          "base_uri": "https://localhost:8080/"
        },
        "id": "swpX-ykR1odl",
        "outputId": "0441bc69-865f-47b9-e482-03b98b180d89"
      },
      "outputs": [
        {
          "output_type": "stream",
          "name": "stdout",
          "text": [
            "Loaded 40139 word vectors.\n"
          ]
        },
        {
          "output_type": "stream",
          "name": "stderr",
          "text": [
            "/usr/local/lib/python3.7/dist-packages/ipykernel_launcher.py:9: DeprecationWarning: Call to deprecated `wv` (Attribute will be removed in 4.0.0, use self instead).\n",
            "  if __name__ == '__main__':\n",
            "/usr/local/lib/python3.7/dist-packages/ipykernel_launcher.py:10: DeprecationWarning: Call to deprecated `wv` (Attribute will be removed in 4.0.0, use self instead).\n",
            "  # Remove the CWD from sys.path while we load stuff.\n"
          ]
        }
      ],
      "source": [
        "# load the whole \"customized pre-trained word embeddings\"  into embeddings_index. These vectors will be feed to our ML\n",
        "\n",
        "from gensim.models import KeyedVectors\n",
        "\n",
        "embeddings_index={}\n",
        "\n",
        "bisayaEmbeddingModel =KeyedVectors.load_word2vec_format('/content/drive/MyDrive/Colab Notebooks/data/bisayaEmbeddingModel300D.bin',binary=True)\n",
        "\n",
        "for word in bisayaEmbeddingModel.wv.index2word: #wordEmbeddings.wv.vocab:\n",
        "    embeddings_index[word] = bisayaEmbeddingModel.wv.get_vector(word)\n",
        "print('Loaded %s word vectors.'% len(embeddings_index))  # 39998  xx40231 word vectors\n",
        "\n",
        "#print(bisayaEmbeddingModel['mga'])\n",
        "#print(w2v_embeddings_index[\"mga\"])\n",
        "#bisayaEmbeddingModel['ma'].shape  #300\n"
      ]
    },
    {
      "cell_type": "markdown",
      "metadata": {
        "id": "UFVmOvc-uOLg"
      },
      "source": [
        "**6. Transform the data into Embedding Matrix**\n",
        " <br>      Words in the dataset are looked up and assigned with the vectors."
      ]
    },
    {
      "cell_type": "code",
      "execution_count": null,
      "metadata": {
        "colab": {
          "base_uri": "https://localhost:8080/"
        },
        "id": "P3a0R8ESjUPG",
        "outputId": "274e930e-2515-441c-f24c-81beff5ac360"
      },
      "outputs": [
        {
          "output_type": "stream",
          "name": "stdout",
          "text": [
            "Preparing the Embedding Matrix.......\n",
            "Total missed words are 2517 which is 4.95 % of total words\n",
            "Embedding Matrix shape: (30000, 300)\n",
            "Converted 27482 words (2517 misses)\n"
          ]
        }
      ],
      "source": [
        "#Convert data to embedding matrix to num_words x 300 shape\n",
        "\n",
        "import numpy as np\n",
        "embedding_dim = 300\n",
        "MAX_NUM_WORDS = vocabularySize #max the number of vocabulary words\n",
        "min_wordCount = 2\n",
        "small_words=0\n",
        "hits = 0\n",
        "misses = 0\n",
        "word_counts = tokenizer.word_index\n",
        "small_counts=0\n",
        "print ('Preparing the Embedding Matrix.......')\n",
        "num_words = min(MAX_NUM_WORDS,len(wordIndex)+1)\n",
        "embedding_matrix1 = np.zeros((num_words, embedding_dim)) #matrix of 51000 x 300\n",
        "for word, i in wordIndex.items():\n",
        " # if word_counts[word] >= min_wordCount:\n",
        "    if i< MAX_NUM_WORDS:\n",
        "        #continue\n",
        "     #if word in bisayaEmbeddingModel.vocab:   \n",
        "        embedding_vector = embeddings_index.get(word) #bisayaEmbeddingModel[word] #    \n",
        "        if embedding_vector is not None:\n",
        "        # Words not found in embedding index will be all-zeros. # This includes the representation for \"padding\" and \"OOV\"\n",
        "             embedding_matrix1[i] = embedding_vector\n",
        "             hits += 1\n",
        "        else:\n",
        "             #embedding_matrix1[i] = np.zeros((300,))\n",
        "             misses += 1\n",
        "  #else:\n",
        "   #         small_words+=1\n",
        "print('Total missed words are', misses, 'which is', \"%0.2f\" % (misses * 100 / len(wordIndex)),'% of total words')\n",
        "#print('Words with '+str(min_wordCount)+' or less mentions', small_words, 'which is', \"%0.2f\" % (small_words * 100 / len(wordIndex)),'% of total words')\n",
        "\n",
        "print(\"Embedding Matrix shape:\", embedding_matrix1.shape)\n",
        "print(\"Converted %d words (%d misses)\" % (hits, misses))\n",
        "#print(str(len(wordIndex)-small_words-misses) + ' words to proceed.')"
      ]
    },
    {
      "cell_type": "code",
      "execution_count": null,
      "metadata": {
        "id": "ihHFA2IA5pIx"
      },
      "outputs": [],
      "source": [
        "#embedding_matrix1[word_counts['sa']]\n",
        "#word_counts['sa']\n",
        "#embedding_matrix1[2]"
      ]
    },
    {
      "cell_type": "markdown",
      "metadata": {
        "id": "N9eePz7FClz0"
      },
      "source": [
        "#**Building The Model**\n",
        "\n",
        "To best way to learn the fundamentals of a language is language modeling. Language model is the task to assign probabilities. These probabilites represent the likelihood the way we write or grammar or some sort of linguistic phenomnenon."
      ]
    },
    {
      "cell_type": "markdown",
      "metadata": {
        "id": "nONc4Sxy4_x5"
      },
      "source": [
        "**Build the Bisaya Model**\n",
        " <br> This language model is Bidirectional LSTM. BiLSTM\n",
        "is a sequence processing model that consists of two LSTMs: one taking the inputin a forward direction, and the other in a backward direction. BiLSTMs effectively increase the amount of information available to the network, therefore improving thecontext available to the algorithm. LSTM layer makes the decision to keep or throw awaydata by considering the current input, previous output, and previous memory."
      ]
    },
    {
      "cell_type": "markdown",
      "metadata": {
        "id": "fxYfYzwC83vG"
      },
      "source": [
        "**A. Model One** - 2-BiLSTM"
      ]
    },
    {
      "cell_type": "code",
      "execution_count": null,
      "metadata": {
        "colab": {
          "base_uri": "https://localhost:8080/"
        },
        "id": "eNqCm0xT6Lme",
        "outputId": "8cdf4c73-9779-4101-d9a9-074771abc176"
      },
      "outputs": [
        {
          "output_type": "stream",
          "name": "stdout",
          "text": [
            "WARNING:tensorflow:Layer BiLSTM_Layer1 will not use cuDNN kernels since it doesn't meet the criteria. It will use a generic GPU kernel as fallback when running on GPU.\n",
            "WARNING:tensorflow:Layer BiLSTM_Layer1 will not use cuDNN kernels since it doesn't meet the criteria. It will use a generic GPU kernel as fallback when running on GPU.\n",
            "WARNING:tensorflow:Layer BiLSTM_Layer1 will not use cuDNN kernels since it doesn't meet the criteria. It will use a generic GPU kernel as fallback when running on GPU.\n",
            "WARNING:tensorflow:Layer BiLSTM_Layer2 will not use cuDNN kernels since it doesn't meet the criteria. It will use a generic GPU kernel as fallback when running on GPU.\n",
            "WARNING:tensorflow:Layer BiLSTM_Layer2 will not use cuDNN kernels since it doesn't meet the criteria. It will use a generic GPU kernel as fallback when running on GPU.\n",
            "WARNING:tensorflow:Layer BiLSTM_Layer2 will not use cuDNN kernels since it doesn't meet the criteria. It will use a generic GPU kernel as fallback when running on GPU.\n",
            "Model: \"Model_One\"\n",
            "_________________________________________________________________\n",
            " Layer (type)                Output Shape              Param #   \n",
            "=================================================================\n",
            " Embedding_Layer (Embedding)  (None, 50, 300)          9000000   \n",
            "                                                                 \n",
            " bidirectional_2 (Bidirectio  (None, 50, 128)          186880    \n",
            " nal)                                                            \n",
            "                                                                 \n",
            " dropout_2 (Dropout)         (None, 50, 128)           0         \n",
            "                                                                 \n",
            " bidirectional_3 (Bidirectio  (None, 128)              98816     \n",
            " nal)                                                            \n",
            "                                                                 \n",
            " dropout_3 (Dropout)         (None, 128)               0         \n",
            "                                                                 \n",
            " Output_Layer (Dense)        (None, 1)                 129       \n",
            "                                                                 \n",
            "=================================================================\n",
            "Total params: 9,285,825\n",
            "Trainable params: 285,825\n",
            "Non-trainable params: 9,000,000\n",
            "_________________________________________________________________\n"
          ]
        }
      ],
      "source": [
        "from keras.constraints import MaxNorm\n",
        "from keras import regularizers\n",
        "\n",
        "from keras.backend import dropout\n",
        "from keras.models import Sequential\n",
        "from keras.models import Model\n",
        "from keras.layers import Embedding,Bidirectional, LSTM, Dense,Dropout\n",
        "\n",
        "modelOne= Sequential(name=\"Model_One\")\n",
        "embedding_Layer = (Embedding(input_dim=MAX_NUM_WORDS,output_dim=embedding_dim,weights=[embedding_matrix1],input_length=sentence_length,trainable=False, name=\"Embedding_Layer\"))\n",
        "modelOne.add(embedding_Layer)\n",
        "#modelOne.add(Dense(20, input_dim=300, kernel_initializer='he_uniform', activation='relu'))\n",
        "#modelOne.add(Dropout(0.1))\n",
        "modelOne.add(Bidirectional(LSTM(64,activation='relu',return_sequences=True, recurrent_dropout=0.2, name='BiLSTM_Layer1'))) #\n",
        "#modelOne.add(Bidirectional(LSTM(64,activation='relu',return_sequences=True, recurrent_dropout=0.2, name='BiLSTM_Layer1.5')))\n",
        "modelOne.add(Dropout(0.3))\n",
        "#modelOne.add(Bidirectional(LSTM(32,activation='relu',return_sequences=False,recurrent_dropout=0.2,kernel_regularizer = regularizers.L2(0.02),kernel_initializer='he_uniform', kernel_constraint=MaxNorm(2),name='BiLSTM_Layer2')))\n",
        "modelOne.add(Bidirectional(LSTM(64,activation='relu',return_sequences=False,recurrent_dropout=0.2,name='BiLSTM_Layer2')))\n",
        "modelOne.add(Dropout(0.3))\n",
        "modelOne.add(Dense(1,activation='sigmoid',name='Output_Layer'))\n",
        "modelOne.summary()"
      ]
    },
    {
      "cell_type": "code",
      "execution_count": null,
      "metadata": {
        "colab": {
          "base_uri": "https://localhost:8080/",
          "height": 754
        },
        "id": "CZ7slmgggSeu",
        "outputId": "0f7cfd3e-8c36-4691-81ed-14840b50aa48"
      },
      "outputs": [
        {
          "output_type": "execute_result",
          "data": {
            "text/plain": [
              "<IPython.core.display.Image object>"
            ],
            "image/png": "[encoded data removed]"
          },
          "metadata": {},
          "execution_count": 24
        }
      ],
      "source": [
        "import tensorflow as tf\n",
        "from tensorflow.keras.utils import plot_model\n",
        "plot_model(modelOne,show_shapes=True, show_layer_names=True)"
      ]
    },
    {
      "cell_type": "markdown",
      "metadata": {
        "id": "FBe0Hu3wxoWy"
      },
      "source": [
        "**Training the BiLSTM Model**\n"
      ]
    },
    {
      "cell_type": "code",
      "execution_count": null,
      "metadata": {
        "id": "zGxMug9RPKXt"
      },
      "outputs": [],
      "source": [
        "import tensorflow as tf\n",
        "\n",
        "LR_MAX = 0.001\n",
        "LR_MIN = 0.0001\n",
        "LR_EXP_DECAY = 0.85\n",
        "\n",
        "def lrfn(epoch):\n",
        "    lr = (LR_MAX - LR_MIN) * LR_EXP_DECAY**(epoch) + LR_MIN\n",
        "    return lr\n",
        "\n",
        "    \n",
        "lr_callback = tf.keras.callbacks.LearningRateScheduler(lrfn, verbose = True)"
      ]
    },
    {
      "cell_type": "code",
      "execution_count": null,
      "metadata": {
        "id": "jepg6ngG3hZv"
      },
      "outputs": [],
      "source": [
        "from keras.callbacks import EarlyStopping, ModelCheckpoint\n",
        "\n",
        "es= EarlyStopping(monitor='val_loss',mode='min',verbose=1, patience=10)\n",
        "mc=ModelCheckpoint('./model.h5',monitor='val_accuracy',mode='max',save_best_only=True)"
      ]
    },
    {
      "cell_type": "code",
      "execution_count": null,
      "metadata": {
        "id": "sVZPQnccrNT7"
      },
      "outputs": [],
      "source": [
        "from keras.optimizers import adam_v2\n",
        "from keras.optimizers import gradient_descent_v2 #opt=adam_v2.Adam(clipnorm=1, clipvalue=1)\n",
        "from keras import optimizers\n",
        "sgd=gradient_descent_v2.SGD(learning_rate=0.001,momentum =0.9)\n",
        "#optimizer = optimizers.adam_v2.Adam(clipvalue=0.5)\n",
        "\n",
        "modelOne.compile(optimizer='adam', loss='binary_crossentropy',metrics=['accuracy'])"
      ]
    },
    {
      "cell_type": "code",
      "execution_count": null,
      "metadata": {
        "colab": {
          "base_uri": "https://localhost:8080/"
        },
        "id": "KY9t_ffk12Lj",
        "outputId": "b2e86340-b7b3-4934-d4d8-ca6ec1a677fb"
      },
      "outputs": [
        {
          "output_type": "stream",
          "name": "stdout",
          "text": [
            "Epoch 1/50\n",
            "9/9 - 15s - loss: 0.6855 - accuracy: 0.5689 - val_loss: 0.6590 - val_accuracy: 0.6270 - 15s/epoch - 2s/step\n",
            "Epoch 2/50\n",
            "9/9 - 7s - loss: 0.6520 - accuracy: 0.6405 - val_loss: 0.6395 - val_accuracy: 0.6510 - 7s/epoch - 768ms/step\n",
            "Epoch 3/50\n",
            "9/9 - 7s - loss: 0.6450 - accuracy: 0.6387 - val_loss: 0.6409 - val_accuracy: 0.6523 - 7s/epoch - 768ms/step\n",
            "Epoch 4/50\n",
            "9/9 - 7s - loss: 0.6453 - accuracy: 0.6453 - val_loss: 0.6380 - val_accuracy: 0.6630 - 7s/epoch - 790ms/step\n",
            "Epoch 5/50\n",
            "9/9 - 7s - loss: 0.6418 - accuracy: 0.6492 - val_loss: 0.6365 - val_accuracy: 0.6591 - 7s/epoch - 764ms/step\n",
            "Epoch 6/50\n",
            "9/9 - 7s - loss: 0.6376 - accuracy: 0.6535 - val_loss: 0.6321 - val_accuracy: 0.6557 - 7s/epoch - 773ms/step\n",
            "Epoch 7/50\n",
            "9/9 - 7s - loss: 0.6348 - accuracy: 0.6549 - val_loss: 0.6262 - val_accuracy: 0.6591 - 7s/epoch - 748ms/step\n",
            "Epoch 8/50\n",
            "9/9 - 7s - loss: 0.6306 - accuracy: 0.6550 - val_loss: 0.6216 - val_accuracy: 0.6677 - 7s/epoch - 824ms/step\n",
            "Epoch 9/50\n",
            "9/9 - 7s - loss: 0.6276 - accuracy: 0.6562 - val_loss: 0.6628 - val_accuracy: 0.6681 - 7s/epoch - 775ms/step\n",
            "Epoch 10/50\n",
            "9/9 - 7s - loss: 0.6269 - accuracy: 0.6577 - val_loss: 0.6110 - val_accuracy: 0.6689 - 7s/epoch - 777ms/step\n",
            "Epoch 11/50\n",
            "9/9 - 7s - loss: 0.6217 - accuracy: 0.6552 - val_loss: 0.6074 - val_accuracy: 0.6655 - 7s/epoch - 772ms/step\n",
            "Epoch 12/50\n",
            "9/9 - 7s - loss: 0.6219 - accuracy: 0.6558 - val_loss: 0.6035 - val_accuracy: 0.6689 - 7s/epoch - 749ms/step\n",
            "Epoch 13/50\n",
            "9/9 - 8s - loss: 0.6172 - accuracy: 0.6622 - val_loss: 0.6012 - val_accuracy: 0.6737 - 8s/epoch - 840ms/step\n",
            "Epoch 14/50\n",
            "9/9 - 7s - loss: 0.6169 - accuracy: 0.6596 - val_loss: 0.5994 - val_accuracy: 0.6728 - 7s/epoch - 752ms/step\n",
            "Epoch 15/50\n",
            "9/9 - 7s - loss: 0.6158 - accuracy: 0.6608 - val_loss: 0.5999 - val_accuracy: 0.6805 - 7s/epoch - 816ms/step\n",
            "Epoch 16/50\n",
            "9/9 - 7s - loss: 0.6134 - accuracy: 0.6634 - val_loss: 0.5972 - val_accuracy: 0.6801 - 7s/epoch - 767ms/step\n",
            "Epoch 17/50\n",
            "9/9 - 7s - loss: 0.6144 - accuracy: 0.6654 - val_loss: 0.5956 - val_accuracy: 0.6771 - 7s/epoch - 763ms/step\n",
            "Epoch 18/50\n",
            "9/9 - 7s - loss: 0.6148 - accuracy: 0.6618 - val_loss: 0.5938 - val_accuracy: 0.6758 - 7s/epoch - 744ms/step\n",
            "Epoch 19/50\n",
            "9/9 - 8s - loss: 0.6110 - accuracy: 0.6644 - val_loss: 0.5932 - val_accuracy: 0.6818 - 8s/epoch - 835ms/step\n",
            "Epoch 20/50\n",
            "9/9 - 7s - loss: 0.6089 - accuracy: 0.6684 - val_loss: 0.5920 - val_accuracy: 0.6822 - 7s/epoch - 774ms/step\n",
            "Epoch 21/50\n",
            "9/9 - 7s - loss: 0.6077 - accuracy: 0.6693 - val_loss: 0.5912 - val_accuracy: 0.6861 - 7s/epoch - 788ms/step\n",
            "Epoch 22/50\n",
            "9/9 - 7s - loss: 0.6064 - accuracy: 0.6698 - val_loss: 0.5894 - val_accuracy: 0.6882 - 7s/epoch - 798ms/step\n",
            "Epoch 23/50\n",
            "9/9 - 7s - loss: 0.6070 - accuracy: 0.6685 - val_loss: 0.5869 - val_accuracy: 0.6878 - 7s/epoch - 769ms/step\n",
            "Epoch 24/50\n",
            "9/9 - 7s - loss: 0.6074 - accuracy: 0.6699 - val_loss: 0.5871 - val_accuracy: 0.6886 - 7s/epoch - 819ms/step\n",
            "Epoch 25/50\n",
            "9/9 - 7s - loss: 0.6028 - accuracy: 0.6745 - val_loss: 0.5850 - val_accuracy: 0.6891 - 7s/epoch - 774ms/step\n",
            "Epoch 26/50\n",
            "9/9 - 7s - loss: 0.6025 - accuracy: 0.6746 - val_loss: 0.5831 - val_accuracy: 0.6908 - 7s/epoch - 766ms/step\n",
            "Epoch 27/50\n",
            "9/9 - 7s - loss: 0.6018 - accuracy: 0.6770 - val_loss: 0.5828 - val_accuracy: 0.6942 - 7s/epoch - 778ms/step\n",
            "Epoch 28/50\n",
            "9/9 - 7s - loss: 0.5988 - accuracy: 0.6766 - val_loss: 0.5813 - val_accuracy: 0.6950 - 7s/epoch - 763ms/step\n",
            "Epoch 29/50\n",
            "9/9 - 7s - loss: 0.5972 - accuracy: 0.6799 - val_loss: 0.5807 - val_accuracy: 0.6920 - 7s/epoch - 746ms/step\n",
            "Epoch 30/50\n",
            "9/9 - 7s - loss: 0.5950 - accuracy: 0.6812 - val_loss: 0.5816 - val_accuracy: 0.7010 - 7s/epoch - 810ms/step\n",
            "Epoch 31/50\n",
            "9/9 - 7s - loss: 0.5946 - accuracy: 0.6828 - val_loss: 0.5786 - val_accuracy: 0.6955 - 7s/epoch - 759ms/step\n",
            "Epoch 32/50\n",
            "9/9 - 7s - loss: 0.5928 - accuracy: 0.6844 - val_loss: 0.5781 - val_accuracy: 0.6959 - 7s/epoch - 767ms/step\n",
            "Epoch 33/50\n",
            "9/9 - 7s - loss: 0.5911 - accuracy: 0.6838 - val_loss: 0.5775 - val_accuracy: 0.7023 - 7s/epoch - 799ms/step\n",
            "Epoch 34/50\n",
            "9/9 - 7s - loss: 0.5885 - accuracy: 0.6883 - val_loss: 0.5754 - val_accuracy: 0.7036 - 7s/epoch - 769ms/step\n",
            "Epoch 35/50\n",
            "9/9 - 7s - loss: 0.5891 - accuracy: 0.6905 - val_loss: 0.5765 - val_accuracy: 0.7092 - 7s/epoch - 773ms/step\n",
            "Epoch 36/50\n",
            "9/9 - 7s - loss: 0.5899 - accuracy: 0.6884 - val_loss: 0.5753 - val_accuracy: 0.7006 - 7s/epoch - 771ms/step\n",
            "Epoch 37/50\n",
            "9/9 - 7s - loss: 0.5872 - accuracy: 0.6888 - val_loss: 0.5752 - val_accuracy: 0.7066 - 7s/epoch - 742ms/step\n",
            "Epoch 38/50\n",
            "9/9 - 7s - loss: 0.5844 - accuracy: 0.6906 - val_loss: 0.5725 - val_accuracy: 0.7023 - 7s/epoch - 753ms/step\n",
            "Epoch 39/50\n",
            "9/9 - 7s - loss: 0.5830 - accuracy: 0.6930 - val_loss: 0.5740 - val_accuracy: 0.7087 - 7s/epoch - 761ms/step\n",
            "Epoch 40/50\n",
            "9/9 - 7s - loss: 0.5819 - accuracy: 0.6945 - val_loss: 0.5710 - val_accuracy: 0.7015 - 7s/epoch - 758ms/step\n",
            "Epoch 41/50\n",
            "9/9 - 7s - loss: 0.5801 - accuracy: 0.6960 - val_loss: 0.5711 - val_accuracy: 0.7057 - 7s/epoch - 753ms/step\n",
            "Epoch 42/50\n",
            "9/9 - 7s - loss: 0.5806 - accuracy: 0.6949 - val_loss: 0.5693 - val_accuracy: 0.7066 - 7s/epoch - 737ms/step\n",
            "Epoch 43/50\n",
            "9/9 - 7s - loss: 0.5795 - accuracy: 0.6970 - val_loss: 0.5700 - val_accuracy: 0.7096 - 7s/epoch - 809ms/step\n",
            "Epoch 44/50\n",
            "9/9 - 7s - loss: 0.5772 - accuracy: 0.6976 - val_loss: 0.5672 - val_accuracy: 0.7087 - 7s/epoch - 757ms/step\n",
            "Epoch 45/50\n",
            "9/9 - 7s - loss: 0.5761 - accuracy: 0.6995 - val_loss: 0.5729 - val_accuracy: 0.7100 - 7s/epoch - 811ms/step\n",
            "Epoch 46/50\n",
            "9/9 - 7s - loss: 0.5744 - accuracy: 0.6999 - val_loss: 0.5658 - val_accuracy: 0.7053 - 7s/epoch - 746ms/step\n",
            "Epoch 47/50\n",
            "9/9 - 7s - loss: 0.5734 - accuracy: 0.7016 - val_loss: 0.5644 - val_accuracy: 0.7100 - 7s/epoch - 761ms/step\n",
            "Epoch 48/50\n",
            "9/9 - 7s - loss: 0.5703 - accuracy: 0.7026 - val_loss: 0.5689 - val_accuracy: 0.7151 - 7s/epoch - 807ms/step\n",
            "Epoch 49/50\n",
            "9/9 - 7s - loss: 0.5699 - accuracy: 0.7038 - val_loss: 0.5655 - val_accuracy: 0.7079 - 7s/epoch - 774ms/step\n",
            "Epoch 50/50\n",
            "9/9 - 7s - loss: 0.5712 - accuracy: 0.7039 - val_loss: 0.5657 - val_accuracy: 0.7151 - 7s/epoch - 764ms/step\n",
            "Time elapsed in training:357.90\n"
          ]
        }
      ],
      "source": [
        "import time\n",
        "\n",
        "start =time.time()\n",
        "#history = modelOne.fit(padded_training,y_train,batch_size=batch_size,epochs=100,steps_per_epoch=int(padded_training.shape[0]/batch_size), validation_data=(padded_validation,y_validation),verbose=1)\n",
        "#history = myModel.fit(padded_training.any(), epochs=10, ) #https://www.youtube.com/watch?v=Gmicljebr_U\n",
        "#history = modelOne.fit(padded_training, y_train, epochs=50, batch_size = 5000, validation_data=(padded_validation,y_validation),verbose=2) \n",
        "#history = modelOne.fit(padded_training, y_train, epochs=50, batch_size = 5000, validation_data=(padded_testing,y_test),callbacks = [lr_callback],verbose=2) \n",
        "history = modelOne.fit(padded_training, y_train, epochs=50, batch_size = 5000, validation_data=(padded_validation,y_validation),callbacks=[es,mc],verbose=2) \n",
        "end= time.time()\n",
        "print(\"Time elapsed in training:%.2f\" %(end-start))"
      ]
    },
    {
      "cell_type": "code",
      "execution_count": null,
      "metadata": {
        "colab": {
          "base_uri": "https://localhost:8080/",
          "height": 295
        },
        "id": "FSMOjTWyKiKy",
        "outputId": "47dee7c1-7c04-4dcf-c785-caa5aa788cbd"
      },
      "outputs": [
        {
          "output_type": "display_data",
          "data": {
            "text/plain": [
              "<Figure size 432x288 with 1 Axes>"
            ],
            "image/png": "[encoded data removed]"
          },
          "metadata": {
            "needs_background": "light"
          }
        }
      ],
      "source": [
        "#Plot the learning Curve\n",
        "plt.plot(history.history['accuracy'])\n",
        "plt.plot(history.history['val_accuracy'])\n",
        "plt.title('Stacked BiLSTM Model Accuracy')\n",
        "plt.ylabel('Accuracy')\n",
        "plt.xlabel('No. of Epochs ')\n",
        "plt.legend(['Training','Validation'],loc='best')\n",
        "plt.show()"
      ]
    },
    {
      "cell_type": "code",
      "execution_count": null,
      "metadata": {
        "colab": {
          "base_uri": "https://localhost:8080/",
          "height": 295
        },
        "id": "Bppos_KpFTEV",
        "outputId": "3d6a7d5d-be66-4025-fadc-9499e881cd59"
      },
      "outputs": [
        {
          "output_type": "display_data",
          "data": {
            "text/plain": [
              "<Figure size 432x288 with 1 Axes>"
            ],
            "image/png": "[encoded data removed]"
          },
          "metadata": {
            "needs_background": "light"
          }
        }
      ],
      "source": [
        "plt.plot(history.history['loss'],label='training data')\n",
        "plt.plot(history.history['val_loss'],label='validation data')\n",
        "plt.title('Model Loss')\n",
        "plt.ylabel('Loss Value')\n",
        "plt.xlabel('No. of Epochs ')\n",
        "plt.legend(loc='upper right')\n",
        "plt.show()"
      ]
    },
    {
      "cell_type": "markdown",
      "metadata": {
        "id": "9VT4J4ZpDTCr"
      },
      "source": [
        "#**Evaluation**"
      ]
    },
    {
      "cell_type": "code",
      "execution_count": null,
      "metadata": {
        "colab": {
          "base_uri": "https://localhost:8080/",
          "height": 469
        },
        "id": "Mz8RV2fuESD7",
        "outputId": "d22ae104-0fa1-483f-ad27-a63e7798b690"
      },
      "outputs": [
        {
          "output_type": "stream",
          "name": "stdout",
          "text": [
            "              precision    recall  f1-score   support\n",
            "\n",
            "           0       0.71      0.70      0.70      1158\n",
            "           1       0.71      0.71      0.71      1180\n",
            "\n",
            "    accuracy                           0.71      2338\n",
            "   macro avg       0.71      0.71      0.71      2338\n",
            "weighted avg       0.71      0.71      0.71      2338\n",
            "\n"
          ]
        },
        {
          "output_type": "execute_result",
          "data": {
            "text/plain": [
              "[Text(0, 0.5, 'Positive'), Text(0, 1.5, 'Negative')]"
            ]
          },
          "metadata": {},
          "execution_count": 55
        },
        {
          "output_type": "display_data",
          "data": {
            "text/plain": [
              "<Figure size 432x288 with 2 Axes>"
            ],
            "image/png": "[encoded data removed]"
          },
          "metadata": {
            "needs_background": "light"
          }
        }
      ],
      "source": [
        "from sklearn.metrics import confusion_matrix\n",
        "from sklearn.metrics import classification_report\n",
        "\n",
        "ax=plt.subplot()\n",
        "y_predict = modelOne.predict(padded_testing)\n",
        "y_predict = np.where((y_predict) > 0.5,1,0)\n",
        "print(classification_report(y_test,y_predict))\n",
        "\n",
        "cm= confusion_matrix(y_test,y_predict)\n",
        "sns.heatmap(cm, annot=True, fmt='d', ax= ax,cmap=plt.cm.Greens) #annotate cells\n",
        "\n",
        "ax.set_xlabel('Predicted labels');ax.set_ylabel('Actual labels');\n",
        "ax.set_title('Confusion Matrix');\n",
        "ax.xaxis.set_ticklabels(['Positive','Negative']);ax.yaxis.set_ticklabels(['Positive','Negative'])\n",
        "\n"
      ]
    },
    {
      "cell_type": "code",
      "execution_count": null,
      "metadata": {
        "colab": {
          "base_uri": "https://localhost:8080/"
        },
        "id": "9ODvZ2HxR8hT",
        "outputId": "7166a56a-cd90-4015-e82b-ad8729cf672e"
      },
      "outputs": [
        {
          "output_type": "stream",
          "name": "stdout",
          "text": [
            "   Actual Labels: [1 1 1 0 0 1 0 0 0 1]\n",
            "[[1]\n",
            " [1]\n",
            " [1]\n",
            " [0]\n",
            " [0]\n",
            " [1]\n",
            " [0]\n",
            " [1]\n",
            " [1]\n",
            " [1]]\n"
          ]
        }
      ],
      "source": [
        "import numpy as np\n",
        "\n",
        "# print the first 25 true and predicted responses\n",
        "print('   Actual Labels:', np.array(y_test)[0:10])\n",
        "pred = np.array(y_predict)[0:10]\n",
        "print(pred)"
      ]
    },
    {
      "cell_type": "code",
      "execution_count": null,
      "metadata": {
        "colab": {
          "base_uri": "https://localhost:8080/"
        },
        "id": "mZKeBhBmYgKr",
        "outputId": "2c0d73de-2941-47db-83d7-7783a52de069"
      },
      "outputs": [
        {
          "output_type": "stream",
          "name": "stdout",
          "text": [
            "MOdel Accuracy 0.7070145423438836\n",
            "Model f1 score 0.7110923660902573\n",
            "MOdel Recall 0.714406779661017\n",
            "Model Precision 0.707808564231738\n"
          ]
        }
      ],
      "source": [
        "from sklearn.metrics import f1_score,accuracy_score,recall_score,precision_score\n",
        "print(\"MOdel Accuracy\", accuracy_score(y_test, y_predict))\n",
        "print(\"Model f1 score\", f1_score(y_test, y_predict))\n",
        "print(\"MOdel Recall\", recall_score(y_test, y_predict))\n",
        "print(\"Model Precision\",precision_score(y_test, y_predict))\n",
        "\n",
        "\n",
        "#RNNsemicolon\n"
      ]
    },
    {
      "cell_type": "code",
      "execution_count": null,
      "metadata": {
        "colab": {
          "background_save": true,
          "base_uri": "https://localhost:8080/",
          "height": 130
        },
        "id": "7fqDwntN2Jlg",
        "outputId": "d7889530-0e62-46ca-8716-99f3e8e0a0f6"
      },
      "outputs": [
        {
          "ename": "ValueError",
          "evalue": "ignored",
          "output_type": "error",
          "traceback": [
            "\u001b[0;31m---------------------------------------------------------------------------\u001b[0m",
            "\u001b[0;31mValueError\u001b[0m                                Traceback (most recent call last)",
            "\u001b[0;32m<ipython-input-38-037119b73b9c>\u001b[0m in \u001b[0;36m<module>\u001b[0;34m()\u001b[0m\n\u001b[1;32m      3\u001b[0m \u001b[0;31m# X_train[:,0] # slicing\u001b[0m\u001b[0;34m\u001b[0m\u001b[0;34m\u001b[0m\u001b[0;34m\u001b[0m\u001b[0m\n\u001b[1;32m      4\u001b[0m \u001b[0;31m#y_predict=y_predict[:,0]\u001b[0m\u001b[0;34m\u001b[0m\u001b[0;34m\u001b[0m\u001b[0;34m\u001b[0m\u001b[0m\n\u001b[0;32m----> 5\u001b[0;31m \u001b[0mplt\u001b[0m\u001b[0;34m.\u001b[0m\u001b[0mscatter\u001b[0m\u001b[0;34m(\u001b[0m\u001b[0mrange\u001b[0m\u001b[0;34m(\u001b[0m\u001b[0;36m25\u001b[0m\u001b[0;34m)\u001b[0m\u001b[0;34m,\u001b[0m\u001b[0my_predict\u001b[0m\u001b[0;34m[\u001b[0m\u001b[0;34m:\u001b[0m\u001b[0;34m,\u001b[0m\u001b[0;36m0\u001b[0m\u001b[0;34m]\u001b[0m\u001b[0;34m,\u001b[0m\u001b[0mc\u001b[0m\u001b[0;34m=\u001b[0m\u001b[0;34m'r'\u001b[0m\u001b[0;34m)\u001b[0m\u001b[0;34m\u001b[0m\u001b[0;34m\u001b[0m\u001b[0m\n\u001b[0m\u001b[1;32m      6\u001b[0m \u001b[0mplt\u001b[0m\u001b[0;34m.\u001b[0m\u001b[0mscatter\u001b[0m\u001b[0;34m(\u001b[0m\u001b[0mrange\u001b[0m\u001b[0;34m(\u001b[0m\u001b[0;36m25\u001b[0m\u001b[0;34m)\u001b[0m\u001b[0;34m,\u001b[0m\u001b[0my_test\u001b[0m\u001b[0;34m,\u001b[0m\u001b[0mc\u001b[0m\u001b[0;34m=\u001b[0m\u001b[0;34m'g'\u001b[0m\u001b[0;34m)\u001b[0m\u001b[0;34m\u001b[0m\u001b[0;34m\u001b[0m\u001b[0m\n\u001b[1;32m      7\u001b[0m \u001b[0mplt\u001b[0m\u001b[0;34m.\u001b[0m\u001b[0mshow\u001b[0m\u001b[0;34m(\u001b[0m\u001b[0;34m)\u001b[0m\u001b[0;34m\u001b[0m\u001b[0;34m\u001b[0m\u001b[0m\n",
            "\u001b[0;32m/usr/local/lib/python3.7/dist-packages/matplotlib/pyplot.py\u001b[0m in \u001b[0;36mscatter\u001b[0;34m(x, y, s, c, marker, cmap, norm, vmin, vmax, alpha, linewidths, verts, edgecolors, plotnonfinite, data, **kwargs)\u001b[0m\n\u001b[1;32m   2814\u001b[0m         \u001b[0mverts\u001b[0m\u001b[0;34m=\u001b[0m\u001b[0mverts\u001b[0m\u001b[0;34m,\u001b[0m \u001b[0medgecolors\u001b[0m\u001b[0;34m=\u001b[0m\u001b[0medgecolors\u001b[0m\u001b[0;34m,\u001b[0m\u001b[0;34m\u001b[0m\u001b[0;34m\u001b[0m\u001b[0m\n\u001b[1;32m   2815\u001b[0m         plotnonfinite=plotnonfinite, **({\"data\": data} if data is not\n\u001b[0;32m-> 2816\u001b[0;31m         None else {}), **kwargs)\n\u001b[0m\u001b[1;32m   2817\u001b[0m     \u001b[0msci\u001b[0m\u001b[0;34m(\u001b[0m\u001b[0m__ret\u001b[0m\u001b[0;34m)\u001b[0m\u001b[0;34m\u001b[0m\u001b[0;34m\u001b[0m\u001b[0m\n\u001b[1;32m   2818\u001b[0m     \u001b[0;32mreturn\u001b[0m \u001b[0m__ret\u001b[0m\u001b[0;34m\u001b[0m\u001b[0;34m\u001b[0m\u001b[0m\n",
            "\u001b[0;32m/usr/local/lib/python3.7/dist-packages/matplotlib/__init__.py\u001b[0m in \u001b[0;36minner\u001b[0;34m(ax, data, *args, **kwargs)\u001b[0m\n\u001b[1;32m   1563\u001b[0m     \u001b[0;32mdef\u001b[0m \u001b[0minner\u001b[0m\u001b[0;34m(\u001b[0m\u001b[0max\u001b[0m\u001b[0;34m,\u001b[0m \u001b[0;34m*\u001b[0m\u001b[0margs\u001b[0m\u001b[0;34m,\u001b[0m \u001b[0mdata\u001b[0m\u001b[0;34m=\u001b[0m\u001b[0;32mNone\u001b[0m\u001b[0;34m,\u001b[0m \u001b[0;34m**\u001b[0m\u001b[0mkwargs\u001b[0m\u001b[0;34m)\u001b[0m\u001b[0;34m:\u001b[0m\u001b[0;34m\u001b[0m\u001b[0;34m\u001b[0m\u001b[0m\n\u001b[1;32m   1564\u001b[0m         \u001b[0;32mif\u001b[0m \u001b[0mdata\u001b[0m \u001b[0;32mis\u001b[0m \u001b[0;32mNone\u001b[0m\u001b[0;34m:\u001b[0m\u001b[0;34m\u001b[0m\u001b[0;34m\u001b[0m\u001b[0m\n\u001b[0;32m-> 1565\u001b[0;31m             \u001b[0;32mreturn\u001b[0m \u001b[0mfunc\u001b[0m\u001b[0;34m(\u001b[0m\u001b[0max\u001b[0m\u001b[0;34m,\u001b[0m \u001b[0;34m*\u001b[0m\u001b[0mmap\u001b[0m\u001b[0;34m(\u001b[0m\u001b[0msanitize_sequence\u001b[0m\u001b[0;34m,\u001b[0m \u001b[0margs\u001b[0m\u001b[0;34m)\u001b[0m\u001b[0;34m,\u001b[0m \u001b[0;34m**\u001b[0m\u001b[0mkwargs\u001b[0m\u001b[0;34m)\u001b[0m\u001b[0;34m\u001b[0m\u001b[0;34m\u001b[0m\u001b[0m\n\u001b[0m\u001b[1;32m   1566\u001b[0m \u001b[0;34m\u001b[0m\u001b[0m\n\u001b[1;32m   1567\u001b[0m         \u001b[0mbound\u001b[0m \u001b[0;34m=\u001b[0m \u001b[0mnew_sig\u001b[0m\u001b[0;34m.\u001b[0m\u001b[0mbind\u001b[0m\u001b[0;34m(\u001b[0m\u001b[0max\u001b[0m\u001b[0;34m,\u001b[0m \u001b[0;34m*\u001b[0m\u001b[0margs\u001b[0m\u001b[0;34m,\u001b[0m \u001b[0;34m**\u001b[0m\u001b[0mkwargs\u001b[0m\u001b[0;34m)\u001b[0m\u001b[0;34m\u001b[0m\u001b[0;34m\u001b[0m\u001b[0m\n",
            "\u001b[0;32m/usr/local/lib/python3.7/dist-packages/matplotlib/cbook/deprecation.py\u001b[0m in \u001b[0;36mwrapper\u001b[0;34m(*args, **kwargs)\u001b[0m\n\u001b[1;32m    356\u001b[0m                 \u001b[0;34mf\"%(removal)s.  If any parameter follows {name!r}, they \"\u001b[0m\u001b[0;34m\u001b[0m\u001b[0;34m\u001b[0m\u001b[0m\n\u001b[1;32m    357\u001b[0m                 f\"should be pass as keyword, not positionally.\")\n\u001b[0;32m--> 358\u001b[0;31m         \u001b[0;32mreturn\u001b[0m \u001b[0mfunc\u001b[0m\u001b[0;34m(\u001b[0m\u001b[0;34m*\u001b[0m\u001b[0margs\u001b[0m\u001b[0;34m,\u001b[0m \u001b[0;34m**\u001b[0m\u001b[0mkwargs\u001b[0m\u001b[0;34m)\u001b[0m\u001b[0;34m\u001b[0m\u001b[0;34m\u001b[0m\u001b[0m\n\u001b[0m\u001b[1;32m    359\u001b[0m \u001b[0;34m\u001b[0m\u001b[0m\n\u001b[1;32m    360\u001b[0m     \u001b[0;32mreturn\u001b[0m \u001b[0mwrapper\u001b[0m\u001b[0;34m\u001b[0m\u001b[0;34m\u001b[0m\u001b[0m\n",
            "\u001b[0;32m/usr/local/lib/python3.7/dist-packages/matplotlib/axes/_axes.py\u001b[0m in \u001b[0;36mscatter\u001b[0;34m(self, x, y, s, c, marker, cmap, norm, vmin, vmax, alpha, linewidths, verts, edgecolors, plotnonfinite, **kwargs)\u001b[0m\n\u001b[1;32m   4389\u001b[0m         \u001b[0my\u001b[0m \u001b[0;34m=\u001b[0m \u001b[0mnp\u001b[0m\u001b[0;34m.\u001b[0m\u001b[0mma\u001b[0m\u001b[0;34m.\u001b[0m\u001b[0mravel\u001b[0m\u001b[0;34m(\u001b[0m\u001b[0my\u001b[0m\u001b[0;34m)\u001b[0m\u001b[0;34m\u001b[0m\u001b[0;34m\u001b[0m\u001b[0m\n\u001b[1;32m   4390\u001b[0m         \u001b[0;32mif\u001b[0m \u001b[0mx\u001b[0m\u001b[0;34m.\u001b[0m\u001b[0msize\u001b[0m \u001b[0;34m!=\u001b[0m \u001b[0my\u001b[0m\u001b[0;34m.\u001b[0m\u001b[0msize\u001b[0m\u001b[0;34m:\u001b[0m\u001b[0;34m\u001b[0m\u001b[0;34m\u001b[0m\u001b[0m\n\u001b[0;32m-> 4391\u001b[0;31m             \u001b[0;32mraise\u001b[0m \u001b[0mValueError\u001b[0m\u001b[0;34m(\u001b[0m\u001b[0;34m\"x and y must be the same size\"\u001b[0m\u001b[0;34m)\u001b[0m\u001b[0;34m\u001b[0m\u001b[0;34m\u001b[0m\u001b[0m\n\u001b[0m\u001b[1;32m   4392\u001b[0m \u001b[0;34m\u001b[0m\u001b[0m\n\u001b[1;32m   4393\u001b[0m         \u001b[0;32mif\u001b[0m \u001b[0ms\u001b[0m \u001b[0;32mis\u001b[0m \u001b[0;32mNone\u001b[0m\u001b[0;34m:\u001b[0m\u001b[0;34m\u001b[0m\u001b[0;34m\u001b[0m\u001b[0m\n",
            "\u001b[0;31mValueError\u001b[0m: x and y must be the same size"
          ]
        },
        {
          "data": {
            "image/png": "[encoded data removed]",
            "text/plain": [
              "<Figure size 432x288 with 1 Axes>"
            ]
          },
          "metadata": {},
          "output_type": "display_data"
        }
      ],
      "source": [
        "#y_predict.shape  #(2817,1)\n",
        "#y_test.shape  #(2817,)\n",
        "# X_train[:,0] # slicing\n",
        "#y_predict=y_predict[:,0]\n",
        "plt.scatter(x=x,y=y,range(25),y_predict[:,0],c='r')\n",
        "plt.scatter(x=x,y=y,range(25),y_test,c='g')\n",
        "plt.show()"
      ]
    },
    {
      "cell_type": "code",
      "execution_count": null,
      "metadata": {
        "colab": {
          "base_uri": "https://localhost:8080/",
          "height": 182
        },
        "id": "gV_6GIE9jxGE",
        "outputId": "9ec23910-38d9-4a8d-ef68-2fdeca6bf113"
      },
      "outputs": [
        {
          "output_type": "error",
          "ename": "AttributeError",
          "evalue": "ignored",
          "traceback": [
            "\u001b[0;31m---------------------------------------------------------------------------\u001b[0m",
            "\u001b[0;31mAttributeError\u001b[0m                            Traceback (most recent call last)",
            "\u001b[0;32m<ipython-input-65-b1a0feee4cde>\u001b[0m in \u001b[0;36m<module>\u001b[0;34m()\u001b[0m\n\u001b[1;32m      1\u001b[0m \u001b[0;31m# store the predicted probabilities for class label 1 (positive)\u001b[0m\u001b[0;34m\u001b[0m\u001b[0;34m\u001b[0m\u001b[0;34m\u001b[0m\u001b[0m\n\u001b[0;32m----> 2\u001b[0;31m \u001b[0my_pred_prob\u001b[0m \u001b[0;34m=\u001b[0m \u001b[0mmodelOne\u001b[0m\u001b[0;34m.\u001b[0m\u001b[0mpredict_proba\u001b[0m\u001b[0;34m(\u001b[0m\u001b[0mX_test\u001b[0m\u001b[0;34m)\u001b[0m\u001b[0;34m[\u001b[0m\u001b[0;34m:\u001b[0m\u001b[0;34m,\u001b[0m \u001b[0;36m1\u001b[0m\u001b[0;34m]\u001b[0m\u001b[0;34m\u001b[0m\u001b[0;34m\u001b[0m\u001b[0m\n\u001b[0m",
            "\u001b[0;31mAttributeError\u001b[0m: 'Sequential' object has no attribute 'predict_proba'"
          ]
        }
      ],
      "source": [
        "# store the predicted probabilities for class label 1 (positive)\n",
        "y_pred_prob = modelOne.predict_proba(X_test)[:, 1]"
      ]
    },
    {
      "cell_type": "code",
      "execution_count": null,
      "metadata": {
        "colab": {
          "base_uri": "https://localhost:8080/",
          "height": 235
        },
        "id": "Co5-gYW0jZzT",
        "outputId": "c102633e-98f8-46a0-c1b9-3f980498f0d4"
      },
      "outputs": [
        {
          "output_type": "error",
          "ename": "NameError",
          "evalue": "ignored",
          "traceback": [
            "\u001b[0;31m---------------------------------------------------------------------------\u001b[0m",
            "\u001b[0;31mNameError\u001b[0m                                 Traceback (most recent call last)",
            "\u001b[0;32m<ipython-input-64-9bafa822978e>\u001b[0m in \u001b[0;36m<module>\u001b[0;34m()\u001b[0m\n\u001b[1;32m      4\u001b[0m \u001b[0;34m\u001b[0m\u001b[0m\n\u001b[1;32m      5\u001b[0m \u001b[0;31m# allow plots to appear in the notebook\u001b[0m\u001b[0;34m\u001b[0m\u001b[0;34m\u001b[0m\u001b[0;34m\u001b[0m\u001b[0m\n\u001b[0;32m----> 6\u001b[0;31m \u001b[0mplt\u001b[0m\u001b[0;34m.\u001b[0m\u001b[0mhist\u001b[0m\u001b[0;34m(\u001b[0m\u001b[0my_pred_prob\u001b[0m\u001b[0;34m,\u001b[0m \u001b[0mbins\u001b[0m\u001b[0;34m=\u001b[0m\u001b[0;36m8\u001b[0m\u001b[0;34m)\u001b[0m\u001b[0;34m\u001b[0m\u001b[0;34m\u001b[0m\u001b[0m\n\u001b[0m\u001b[1;32m      7\u001b[0m \u001b[0mplt\u001b[0m\u001b[0;34m.\u001b[0m\u001b[0mxlim\u001b[0m\u001b[0;34m(\u001b[0m\u001b[0;36m0\u001b[0m\u001b[0;34m,\u001b[0m \u001b[0;36m1\u001b[0m\u001b[0;34m)\u001b[0m\u001b[0;34m\u001b[0m\u001b[0;34m\u001b[0m\u001b[0m\n\u001b[1;32m      8\u001b[0m \u001b[0mplt\u001b[0m\u001b[0;34m.\u001b[0m\u001b[0mtitle\u001b[0m\u001b[0;34m(\u001b[0m\u001b[0;34m'Histogram of predicted probabilities'\u001b[0m\u001b[0;34m)\u001b[0m\u001b[0;34m\u001b[0m\u001b[0;34m\u001b[0m\u001b[0m\n",
            "\u001b[0;31mNameError\u001b[0m: name 'y_pred_prob' is not defined"
          ]
        }
      ],
      "source": [
        "# histogram of predicted probabilities\n",
        "%matplotlib inline\n",
        "import matplotlib.pyplot as plt\n",
        "\n",
        "# allow plots to appear in the notebook\n",
        "plt.hist(y_pred_prob, bins=8)\n",
        "plt.xlim(0, 1)\n",
        "plt.title('Histogram of predicted probabilities')\n",
        "plt.xlabel('Predicted probability of All Positive Texts')\n",
        "plt.ylabel('Frequency')"
      ]
    },
    {
      "cell_type": "code",
      "execution_count": null,
      "metadata": {
        "colab": {
          "base_uri": "https://localhost:8080/"
        },
        "id": "RiYAQyrXHMJ8",
        "outputId": "c1fa5c75-7487-4610-953d-0915f038ecb0"
      },
      "outputs": [
        {
          "name": "stdout",
          "output_type": "stream",
          "text": [
            "Train split\n",
            "Accuracy: 76.632053\n",
            "Loss : 47.500744\n",
            "------------------------\n",
            "Validation split\n",
            "Accuracy: 71.580708\n",
            "Loss : 59.054828\n",
            "------------------------\n",
            "Test split:\n",
            "Accuracy: 69.471067\n",
            "Loss : 61.818844\n"
          ]
        }
      ],
      "source": [
        "from sklearn.metrics import accuracy_score\n",
        "\n",
        "#Evaluation from each split\n",
        "print('Train split')\n",
        "loss, accuracy = modelOne.evaluate(padded_training, y_train, verbose=0)\n",
        "#accuracy = accuracy_score(y_test, y_predict)\n",
        "print('Accuracy: %f' % (accuracy*100))\n",
        "print('Loss : %f' % (loss*100))\n",
        "print('------------------------')\n",
        "\n",
        "\n",
        "print('Validation split')\n",
        "loss, accuracy = modelOne.evaluate(padded_validation, y_validation, verbose=0)\n",
        "print('Accuracy: %f' % (accuracy*100))\n",
        "print('Loss : %f' % (loss*100))\n",
        "print('------------------------')\n",
        "\n",
        "print('Test split:')\n",
        "loss, accuracy = modelOne.evaluate(padded_testing, y_test, verbose=0)\n",
        "print('Accuracy: %f' % (accuracy*100))\n",
        "print('Loss : %f' % (loss*100))"
      ]
    },
    {
      "cell_type": "markdown",
      "metadata": {
        "id": "8lfT1K8ZafIL"
      },
      "source": [
        "**B. Model Two** BiLSTM + Attention"
      ]
    },
    {
      "cell_type": "code",
      "execution_count": null,
      "metadata": {
        "id": "sifEILb6ftce"
      },
      "outputs": [],
      "source": [
        "import tensorflow as tf\n",
        "from tensorflow.keras.layers import Dense\n",
        "from tensorflow.keras import Model\n",
        "class Attention(Model):\n",
        "    def __init__(self,units):\n",
        "       super(Attention,self).__init__()\n",
        "       self.W1 = Dense(units)\n",
        "       self.w2 = Dense(units)\n",
        "       self.V = Dense(1)\n",
        "\n",
        "    def call(self, features, hidden):\n",
        "      hidden_with_time_axis = tf.expand_dims(hidden,1)\n",
        "      score = tf.nn.tanh( self.W1(features) + self.w2(hidden_with_time_axis))\n",
        "      attention_weights = tf.nn.softmax(self.V(score),axis=1)\n",
        "      context_vector = attention_weights * features\n",
        "      context_vector = tf.reduce_sum(context_vector, axis=1)\n",
        "\n",
        "      return context_vector,attention_weights\n",
        "\n"
      ]
    },
    {
      "cell_type": "code",
      "execution_count": null,
      "metadata": {
        "colab": {
          "base_uri": "https://localhost:8080/"
        },
        "id": "dzqxwwnK8rKU",
        "outputId": "01876fd7-ab7d-4051-e1c2-06d16bb91c6d"
      },
      "outputs": [
        {
          "name": "stdout",
          "output_type": "stream",
          "text": [
            "WARNING:tensorflow:Layer lstm will not use cuDNN kernels since it doesn't meet the criteria. It will use a generic GPU kernel as fallback when running on GPU.\n",
            "WARNING:tensorflow:Layer lstm will not use cuDNN kernels since it doesn't meet the criteria. It will use a generic GPU kernel as fallback when running on GPU.\n",
            "WARNING:tensorflow:Layer lstm will not use cuDNN kernels since it doesn't meet the criteria. It will use a generic GPU kernel as fallback when running on GPU.\n",
            "WARNING:tensorflow:Layer lstm_1 will not use cuDNN kernels since it doesn't meet the criteria. It will use a generic GPU kernel as fallback when running on GPU.\n",
            "WARNING:tensorflow:Layer lstm_1 will not use cuDNN kernels since it doesn't meet the criteria. It will use a generic GPU kernel as fallback when running on GPU.\n",
            "WARNING:tensorflow:Layer lstm_1 will not use cuDNN kernels since it doesn't meet the criteria. It will use a generic GPU kernel as fallback when running on GPU.\n"
          ]
        }
      ],
      "source": [
        "\n",
        "import tensorflow as tf\n",
        "from tensorflow.keras.layers import Input,Embedding,LSTM,Bidirectional\n",
        "import keras\n",
        "\n",
        "\n",
        "max_num_words=vocabularySize #len(wordIndex)\n",
        "sequence_input =Input(shape=(len(padded_training[0]),),dtype='int32',name='Input')\n",
        "embedded_sequences=Embedding(max_num_words,weights=[embedding_matrix1], input_length=sentence_length,output_dim=300 ,trainable=False,name='Embedding_Layer')(sequence_input)\n",
        "lstm=Bidirectional(LSTM(units=64,dropout=0.3,return_sequences=True, recurrent_activation='relu', return_state=True, recurrent_initializer='glorot_uniform'),name=\"BiLSTM1\")(embedded_sequences)\n",
        "lstm,forward_h,forward_c, backward_h, backward_c=Bidirectional(LSTM(units=64,dropout=0.3,return_sequences=True,recurrent_activation='relu',return_state=True,recurrent_initializer='glorot_uniform'),name=\"BiLSTM2\")(lstm)\n"
      ]
    },
    {
      "cell_type": "code",
      "execution_count": null,
      "metadata": {
        "colab": {
          "base_uri": "https://localhost:8080/"
        },
        "id": "7KZpDdEx2z-z",
        "outputId": "63a09286-dcbb-434c-b1bb-2fdc8caf1526"
      },
      "outputs": [
        {
          "name": "stdout",
          "output_type": "stream",
          "text": [
            "Model: \"model\"\n",
            "__________________________________________________________________________________________________\n",
            " Layer (type)                   Output Shape         Param #     Connected to                     \n",
            "==================================================================================================\n",
            " Input (InputLayer)             [(None, 50)]         0           []                               \n",
            "                                                                                                  \n",
            " Embedding_Layer (Embedding)    (None, 50, 300)      9000000     ['Input[0][0]']                  \n",
            "                                                                                                  \n",
            " BiLSTM1 (Bidirectional)        [(None, 50, 128),    186880      ['Embedding_Layer[0][0]']        \n",
            "                                 (None, 64),                                                      \n",
            "                                 (None, 64),                                                      \n",
            "                                 (None, 64),                                                      \n",
            "                                 (None, 64)]                                                      \n",
            "                                                                                                  \n",
            " BiLSTM2 (Bidirectional)        [(None, 50, 128),    98816       ['BiLSTM1[0][0]',                \n",
            "                                 (None, 64),                      'BiLSTM1[0][1]',                \n",
            "                                 (None, 64),                      'BiLSTM1[0][2]',                \n",
            "                                 (None, 64),                      'BiLSTM1[0][3]',                \n",
            "                                 (None, 64)]                      'BiLSTM1[0][4]']                \n",
            "                                                                                                  \n",
            " concatenate (Concatenate)      (None, 128)          0           ['BiLSTM2[0][1]',                \n",
            "                                                                  'BiLSTM2[0][3]']                \n",
            "                                                                                                  \n",
            " attention (Attention)          ((None, 128),        16577       ['BiLSTM2[0][0]',                \n",
            "                                 (None, 50, 1))                   'concatenate[0][0]']            \n",
            "                                                                                                  \n",
            " dense_3 (Dense)                (None, 1)            129         ['attention[0][0]']              \n",
            "                                                                                                  \n",
            "==================================================================================================\n",
            "Total params: 9,302,402\n",
            "Trainable params: 302,402\n",
            "Non-trainable params: 9,000,000\n",
            "__________________________________________________________________________________________________\n"
          ]
        }
      ],
      "source": [
        "from tensorflow.keras.layers import Concatenate\n",
        "\n",
        "state_h = Concatenate()([forward_h,backward_h])\n",
        "state_c = Concatenate()([forward_c,backward_c])\n",
        "context_vector,attention_weights= Attention(64)(lstm,state_h)\n",
        "output = keras.layers.Dense(1,activation='sigmoid')(context_vector)\n",
        "\n",
        "modelTwo = keras.Model(inputs= sequence_input,outputs=output)\n",
        "modelTwo.summary()"
      ]
    },
    {
      "cell_type": "code",
      "execution_count": null,
      "metadata": {
        "colab": {
          "base_uri": "https://localhost:8080/",
          "height": 467
        },
        "id": "chM62zyC0CUc",
        "outputId": "d515ded2-6429-4ed9-8e8d-b4ffc01af22b"
      },
      "outputs": [
        {
          "data": {
            "image/png": "[encoded data removed]",
            "text/plain": [
              "<IPython.core.display.Image object>"
            ]
          },
          "execution_count": 60,
          "metadata": {},
          "output_type": "execute_result"
        }
      ],
      "source": [
        "from tensorflow.keras.utils import plot_model\n",
        "plot_model(modelTwo,show_shapes=True, show_layer_names=True)"
      ]
    },
    {
      "cell_type": "code",
      "execution_count": null,
      "metadata": {
        "colab": {
          "base_uri": "https://localhost:8080/"
        },
        "id": "CTkvJo68ZHDZ",
        "outputId": "bdef20b6-3491-44bc-db2b-d099d64d1739"
      },
      "outputs": [
        {
          "name": "stdout",
          "output_type": "stream",
          "text": [
            "Epoch 1/50\n",
            "8/8 [==============================] - 20s 2s/step - loss: 0.6914 - accuracy: 0.5195 - val_loss: 0.6869 - val_accuracy: 0.5605\n",
            "Epoch 2/50\n",
            "8/8 [==============================] - 12s 1s/step - loss: 0.6804 - accuracy: 0.5886 - val_loss: 0.6675 - val_accuracy: 0.6235\n",
            "Epoch 3/50\n",
            "8/8 [==============================] - 8s 1s/step - loss: 0.6597 - accuracy: 0.6360 - val_loss: 0.6463 - val_accuracy: 0.6400\n",
            "Epoch 4/50\n",
            "8/8 [==============================] - 8s 1s/step - loss: 0.6417 - accuracy: 0.6490 - val_loss: 0.6311 - val_accuracy: 0.6496\n",
            "Epoch 5/50\n",
            "8/8 [==============================] - 8s 1s/step - loss: 0.6299 - accuracy: 0.6538 - val_loss: 0.6200 - val_accuracy: 0.6592\n",
            "Epoch 6/50\n",
            "8/8 [==============================] - 8s 1s/step - loss: 0.6205 - accuracy: 0.6612 - val_loss: 0.6132 - val_accuracy: 0.6667\n",
            "Epoch 7/50\n",
            "8/8 [==============================] - 8s 1s/step - loss: 0.6121 - accuracy: 0.6686 - val_loss: 0.6063 - val_accuracy: 0.6642\n",
            "Epoch 8/50\n",
            "8/8 [==============================] - 8s 1s/step - loss: 0.6094 - accuracy: 0.6680 - val_loss: 0.6034 - val_accuracy: 0.6665\n",
            "Epoch 9/50\n",
            "8/8 [==============================] - 8s 1s/step - loss: 0.6054 - accuracy: 0.6723 - val_loss: 0.6003 - val_accuracy: 0.6680\n",
            "Epoch 10/50\n",
            "8/8 [==============================] - 8s 1s/step - loss: 0.6016 - accuracy: 0.6754 - val_loss: 0.5979 - val_accuracy: 0.6711\n",
            "Epoch 11/50\n",
            "8/8 [==============================] - 8s 1s/step - loss: 0.5959 - accuracy: 0.6810 - val_loss: 0.5949 - val_accuracy: 0.6759\n",
            "Epoch 12/50\n",
            "8/8 [==============================] - 9s 1s/step - loss: 0.5956 - accuracy: 0.6797 - val_loss: 0.5925 - val_accuracy: 0.6788\n",
            "Epoch 13/50\n",
            "8/8 [==============================] - 8s 1s/step - loss: 0.5943 - accuracy: 0.6822 - val_loss: 0.5910 - val_accuracy: 0.6839\n",
            "Epoch 14/50\n",
            "8/8 [==============================] - 8s 1s/step - loss: 0.5922 - accuracy: 0.6844 - val_loss: 0.5881 - val_accuracy: 0.6857\n",
            "Epoch 15/50\n",
            "8/8 [==============================] - 8s 1s/step - loss: 0.5893 - accuracy: 0.6857 - val_loss: 0.5884 - val_accuracy: 0.6842\n",
            "Epoch 16/50\n",
            "8/8 [==============================] - 15s 2s/step - loss: 0.5878 - accuracy: 0.6879 - val_loss: 0.5879 - val_accuracy: 0.6874\n",
            "Epoch 17/50\n",
            "8/8 [==============================] - 12s 1s/step - loss: 0.5862 - accuracy: 0.6897 - val_loss: 0.5851 - val_accuracy: 0.6854\n",
            "Epoch 18/50\n",
            "8/8 [==============================] - 8s 1s/step - loss: 0.5842 - accuracy: 0.6911 - val_loss: 0.5831 - val_accuracy: 0.6902\n",
            "Epoch 19/50\n",
            "8/8 [==============================] - 8s 1s/step - loss: 0.5812 - accuracy: 0.6935 - val_loss: 0.5864 - val_accuracy: 0.6912\n",
            "Epoch 20/50\n",
            "8/8 [==============================] - 8s 1s/step - loss: 0.5821 - accuracy: 0.6906 - val_loss: 0.5828 - val_accuracy: 0.6899\n",
            "Epoch 21/50\n",
            "8/8 [==============================] - 8s 1s/step - loss: 0.5789 - accuracy: 0.6949 - val_loss: 0.5816 - val_accuracy: 0.6895\n",
            "Epoch 22/50\n",
            "8/8 [==============================] - 8s 1s/step - loss: 0.5762 - accuracy: 0.6971 - val_loss: 0.5801 - val_accuracy: 0.6898\n",
            "Epoch 23/50\n",
            "8/8 [==============================] - 8s 1s/step - loss: 0.5743 - accuracy: 0.6991 - val_loss: 0.5790 - val_accuracy: 0.6887\n",
            "Epoch 24/50\n",
            "8/8 [==============================] - 8s 1s/step - loss: 0.5726 - accuracy: 0.7006 - val_loss: 0.5801 - val_accuracy: 0.6915\n",
            "Epoch 25/50\n",
            "8/8 [==============================] - 8s 1s/step - loss: 0.5738 - accuracy: 0.6994 - val_loss: 0.5790 - val_accuracy: 0.6924\n",
            "Epoch 26/50\n",
            "8/8 [==============================] - 8s 1s/step - loss: 0.5707 - accuracy: 0.7018 - val_loss: 0.5773 - val_accuracy: 0.6916\n",
            "Epoch 27/50\n",
            "8/8 [==============================] - 8s 1s/step - loss: 0.5695 - accuracy: 0.7023 - val_loss: 0.5760 - val_accuracy: 0.6912\n",
            "Epoch 28/50\n",
            "8/8 [==============================] - 8s 1s/step - loss: 0.5688 - accuracy: 0.7027 - val_loss: 0.5757 - val_accuracy: 0.6968\n",
            "Epoch 29/50\n",
            "8/8 [==============================] - 8s 1s/step - loss: 0.5699 - accuracy: 0.6997 - val_loss: 0.5746 - val_accuracy: 0.6982\n",
            "Epoch 30/50\n",
            "8/8 [==============================] - 9s 1s/step - loss: 0.5693 - accuracy: 0.7018 - val_loss: 0.5768 - val_accuracy: 0.6913\n",
            "Epoch 31/50\n",
            "8/8 [==============================] - 8s 1s/step - loss: 0.5661 - accuracy: 0.7055 - val_loss: 0.5729 - val_accuracy: 0.6982\n",
            "Epoch 32/50\n",
            "8/8 [==============================] - 9s 1s/step - loss: 0.5651 - accuracy: 0.7039 - val_loss: 0.5727 - val_accuracy: 0.7018\n",
            "Epoch 33/50\n",
            "8/8 [==============================] - 8s 1s/step - loss: 0.5649 - accuracy: 0.7067 - val_loss: 0.5757 - val_accuracy: 0.6998\n",
            "Epoch 34/50\n",
            "8/8 [==============================] - 8s 1s/step - loss: 0.5644 - accuracy: 0.7069 - val_loss: 0.5716 - val_accuracy: 0.7007\n",
            "Epoch 35/50\n",
            "8/8 [==============================] - 8s 1s/step - loss: 0.5625 - accuracy: 0.7072 - val_loss: 0.5721 - val_accuracy: 0.6942\n",
            "Epoch 36/50\n",
            "8/8 [==============================] - 8s 1s/step - loss: 0.5606 - accuracy: 0.7088 - val_loss: 0.5714 - val_accuracy: 0.6992\n",
            "Epoch 37/50\n",
            "8/8 [==============================] - 8s 1s/step - loss: 0.5597 - accuracy: 0.7074 - val_loss: 0.5688 - val_accuracy: 0.7015\n",
            "Epoch 38/50\n",
            "8/8 [==============================] - 8s 1s/step - loss: 0.5580 - accuracy: 0.7107 - val_loss: 0.5712 - val_accuracy: 0.6886\n",
            "Epoch 39/50\n",
            "8/8 [==============================] - 8s 1s/step - loss: 0.5586 - accuracy: 0.7084 - val_loss: 0.5685 - val_accuracy: 0.6983\n",
            "Epoch 40/50\n",
            "8/8 [==============================] - 8s 1s/step - loss: 0.5570 - accuracy: 0.7118 - val_loss: 0.5680 - val_accuracy: 0.6965\n",
            "Epoch 41/50\n",
            "8/8 [==============================] - 8s 1s/step - loss: 0.5518 - accuracy: 0.7159 - val_loss: 0.5696 - val_accuracy: 0.7039\n",
            "Epoch 42/50\n",
            "8/8 [==============================] - 8s 1s/step - loss: 0.5491 - accuracy: 0.7166 - val_loss: 0.5695 - val_accuracy: 0.7030\n",
            "Epoch 43/50\n",
            "8/8 [==============================] - 8s 1s/step - loss: 0.5508 - accuracy: 0.7167 - val_loss: 0.5682 - val_accuracy: 0.6994\n",
            "Epoch 44/50\n",
            "8/8 [==============================] - 8s 1s/step - loss: 0.5500 - accuracy: 0.7174 - val_loss: 0.5680 - val_accuracy: 0.7009\n",
            "Epoch 45/50\n",
            "8/8 [==============================] - 8s 1s/step - loss: 0.5489 - accuracy: 0.7170 - val_loss: 0.5714 - val_accuracy: 0.7010\n",
            "Epoch 46/50\n",
            "8/8 [==============================] - 8s 1s/step - loss: 0.5489 - accuracy: 0.7159 - val_loss: 0.5665 - val_accuracy: 0.6989\n",
            "Epoch 47/50\n",
            "8/8 [==============================] - 8s 1s/step - loss: 0.5470 - accuracy: 0.7188 - val_loss: 0.5655 - val_accuracy: 0.7012\n",
            "Epoch 48/50\n",
            "8/8 [==============================] - 8s 1s/step - loss: 0.5424 - accuracy: 0.7211 - val_loss: 0.5673 - val_accuracy: 0.7035\n",
            "Epoch 49/50\n",
            "8/8 [==============================] - 8s 1s/step - loss: 0.5418 - accuracy: 0.7234 - val_loss: 0.5692 - val_accuracy: 0.7042\n",
            "Epoch 50/50\n",
            "8/8 [==============================] - 8s 1s/step - loss: 0.5397 - accuracy: 0.7237 - val_loss: 0.5647 - val_accuracy: 0.7004\n"
          ]
        }
      ],
      "source": [
        "modelTwo.compile(optimizer='adam', loss='binary_crossentropy', metrics=['accuracy'])\n",
        "history= modelTwo.fit(padded_training,y_train, validation_data=(padded_validation,y_validation), epochs=50, batch_size=5000)#, callbacks=[es,mc])\n",
        " "
      ]
    },
    {
      "cell_type": "code",
      "execution_count": null,
      "metadata": {
        "colab": {
          "base_uri": "https://localhost:8080/",
          "height": 295
        },
        "id": "pPpP-VyD2gDN",
        "outputId": "8c397b5d-19ac-4e9d-d66f-7f2a15c57723"
      },
      "outputs": [
        {
          "data": {
            "image/png": "[encoded data removed]",
            "text/plain": [
              "<Figure size 432x288 with 1 Axes>"
            ]
          },
          "metadata": {},
          "output_type": "display_data"
        }
      ],
      "source": [
        "#Plot the learning CUrve\n",
        "plt.plot(history.history['accuracy'])\n",
        "plt.plot(history.history['val_accuracy'])\n",
        "plt.title('Accuracy for Text Classification')\n",
        "plt.ylabel('Accuracy Value')\n",
        "plt.xlabel('No. of Epochs ')\n",
        "plt.legend(['Training','Validation'],loc='best')\n",
        "plt.show()"
      ]
    },
    {
      "cell_type": "code",
      "execution_count": null,
      "metadata": {
        "colab": {
          "base_uri": "https://localhost:8080/",
          "height": 295
        },
        "id": "uDxcm1UQ3roP",
        "outputId": "07144c6f-e1ad-453e-afce-791eafef4263"
      },
      "outputs": [
        {
          "data": {
            "image/png": "[encoded data removed]",
            "text/plain": [
              "<Figure size 432x288 with 1 Axes>"
            ]
          },
          "metadata": {},
          "output_type": "display_data"
        }
      ],
      "source": [
        "plt.plot(history.history['loss'],label='training data')\n",
        "plt.plot(history.history['val_loss'],label='validation data')\n",
        "plt.title('Loss for Text Classification')\n",
        "plt.ylabel('Loss Value')\n",
        "plt.xlabel('No. of Epochs ')\n",
        "plt.legend(loc='upper right')\n",
        "plt.show()"
      ]
    },
    {
      "cell_type": "code",
      "execution_count": null,
      "metadata": {
        "colab": {
          "base_uri": "https://localhost:8080/",
          "height": 469
        },
        "id": "FX-3OVcP5NVk",
        "outputId": "4d37a7b7-93cc-4b4b-8c7f-7609a5cd8978"
      },
      "outputs": [
        {
          "name": "stdout",
          "output_type": "stream",
          "text": [
            "              precision    recall  f1-score   support\n",
            "\n",
            "           0       0.70      0.75      0.72      1434\n",
            "           1       0.72      0.66      0.69      1383\n",
            "\n",
            "    accuracy                           0.71      2817\n",
            "   macro avg       0.71      0.70      0.70      2817\n",
            "weighted avg       0.71      0.71      0.70      2817\n",
            "\n"
          ]
        },
        {
          "data": {
            "text/plain": [
              "[Text(0, 0.5, 'Positive'), Text(0, 1.5, 'Negative')]"
            ]
          },
          "execution_count": 67,
          "metadata": {},
          "output_type": "execute_result"
        },
        {
          "data": {
            "image/png": "[encoded data removed]",
            "text/plain": [
              "<Figure size 432x288 with 2 Axes>"
            ]
          },
          "metadata": {},
          "output_type": "display_data"
        }
      ],
      "source": [
        "from sklearn.metrics import confusion_matrix\n",
        "from sklearn.metrics import classification_report\n",
        "\n",
        "ax=plt.subplot()\n",
        "y_predict = modelTwo.predict(padded_testing)\n",
        "y_predict = np.where((y_predict) > 0.5,1,0)\n",
        "print(classification_report(y_test,y_predict))\n",
        "\n",
        "cm= confusion_matrix(y_test,y_predict)\n",
        "sns.heatmap(cm, annot=True, fmt='d', ax= ax,cmap=plt.cm.Greens) #annotate cells\n",
        "\n",
        "ax.set_xlabel('Predicted labels');ax.set_ylabel('Actual labels');\n",
        "ax.set_title('Confusion Matrix');\n",
        "ax.xaxis.set_ticklabels(['Positive','Negative']);ax.yaxis.set_ticklabels(['Positive','Negative'])\n"
      ]
    },
    {
      "cell_type": "code",
      "execution_count": null,
      "metadata": {
        "colab": {
          "base_uri": "https://localhost:8080/"
        },
        "id": "KSczZaZyeQ2m",
        "outputId": "81ea98f2-9cfd-4d83-fa7e-b62d46ae9cfd"
      },
      "outputs": [
        {
          "name": "stdout",
          "output_type": "stream",
          "text": [
            "Model f1 Score 0.6618240516545602\n"
          ]
        }
      ],
      "source": [
        "print(\"Model f1 Score\",f1_score(y_predict,y_test))"
      ]
    },
    {
      "cell_type": "markdown",
      "metadata": {
        "id": "5tlD_1uFRKAh"
      },
      "source": [
        "#**Prediction**"
      ]
    },
    {
      "cell_type": "code",
      "execution_count": null,
      "metadata": {
        "colab": {
          "base_uri": "https://localhost:8080/",
          "height": 1000
        },
        "id": "pV7FtHtYNTOD",
        "outputId": "eaed7333-0d84-4e17-95d2-3c43168e9ebf"
      },
      "outputs": [
        {
          "output_type": "execute_result",
          "data": {
            "text/plain": [
              "    0  pred_sentiment  sentiment\n",
              "0   1               1          1\n",
              "1   1               1          1\n",
              "2   1               1          1\n",
              "3   0               0          0\n",
              "4   0               0          0\n",
              "5   1               1          1\n",
              "6   0               0          0\n",
              "7   1               1          0\n",
              "8   1               1          0\n",
              "9   1               1          1\n",
              "10  0               0          0\n",
              "11  1               1          0\n",
              "12  1               1          1\n",
              "13  1               1          1\n",
              "14  0               0          0\n",
              "15  0               0          0\n",
              "16  1               1          1\n",
              "17  0               0          1\n",
              "18  1               1          1\n",
              "19  1               1          1\n",
              "20  0               0          0\n",
              "21  1               1          1\n",
              "22  1               1          0\n",
              "23  1               1          1\n",
              "24  1               1          1\n",
              "25  1               1          0\n",
              "26  1               1          0\n",
              "27  1               1          1\n",
              "28  0               0          1\n",
              "29  0               0          0\n",
              "30  0               0          0\n",
              "31  1               1          0\n",
              "32  0               0          1\n",
              "33  0               0          1\n",
              "34  1               1          1\n",
              "35  1               1          0\n",
              "36  0               0          0\n",
              "37  1               1          1\n",
              "38  1               1          1\n",
              "39  1               1          1\n",
              "40  0               0          1\n",
              "41  1               1          1\n",
              "42  1               1          0\n",
              "43  1               1          1\n",
              "44  0               0          0\n",
              "45  0               0          0\n",
              "46  1               1          1\n",
              "47  0               0          1\n",
              "48  1               1          1\n",
              "49  1               1          1"
            ],
            "text/html": [
              "\n",
              "  <div id=\"df-89809242-e8b9-45a0-931e-3406fa9e4c94\">\n",
              "    <div class=\"colab-df-container\">\n",
              "      <div>\n",
              "<style scoped>\n",
              "    .dataframe tbody tr th:only-of-type {\n",
              "        vertical-align: middle;\n",
              "    }\n",
              "\n",
              "    .dataframe tbody tr th {\n",
              "        vertical-align: top;\n",
              "    }\n",
              "\n",
              "    .dataframe thead th {\n",
              "        text-align: right;\n",
              "    }\n",
              "</style>\n",
              "<table border=\"1\" class=\"dataframe\">\n",
              "  <thead>\n",
              "    <tr style=\"text-align: right;\">\n",
              "      <th></th>\n",
              "      <th>0</th>\n",
              "      <th>pred_sentiment</th>\n",
              "      <th>sentiment</th>\n",
              "    </tr>\n",
              "  </thead>\n",
              "  <tbody>\n",
              "    <tr>\n",
              "      <th>0</th>\n",
              "      <td>1</td>\n",
              "      <td>1</td>\n",
              "      <td>1</td>\n",
              "    </tr>\n",
              "    <tr>\n",
              "      <th>1</th>\n",
              "      <td>1</td>\n",
              "      <td>1</td>\n",
              "      <td>1</td>\n",
              "    </tr>\n",
              "    <tr>\n",
              "      <th>2</th>\n",
              "      <td>1</td>\n",
              "      <td>1</td>\n",
              "      <td>1</td>\n",
              "    </tr>\n",
              "    <tr>\n",
              "      <th>3</th>\n",
              "      <td>0</td>\n",
              "      <td>0</td>\n",
              "      <td>0</td>\n",
              "    </tr>\n",
              "    <tr>\n",
              "      <th>4</th>\n",
              "      <td>0</td>\n",
              "      <td>0</td>\n",
              "      <td>0</td>\n",
              "    </tr>\n",
              "    <tr>\n",
              "      <th>5</th>\n",
              "      <td>1</td>\n",
              "      <td>1</td>\n",
              "      <td>1</td>\n",
              "    </tr>\n",
              "    <tr>\n",
              "      <th>6</th>\n",
              "      <td>0</td>\n",
              "      <td>0</td>\n",
              "      <td>0</td>\n",
              "    </tr>\n",
              "    <tr>\n",
              "      <th>7</th>\n",
              "      <td>1</td>\n",
              "      <td>1</td>\n",
              "      <td>0</td>\n",
              "    </tr>\n",
              "    <tr>\n",
              "      <th>8</th>\n",
              "      <td>1</td>\n",
              "      <td>1</td>\n",
              "      <td>0</td>\n",
              "    </tr>\n",
              "    <tr>\n",
              "      <th>9</th>\n",
              "      <td>1</td>\n",
              "      <td>1</td>\n",
              "      <td>1</td>\n",
              "    </tr>\n",
              "    <tr>\n",
              "      <th>10</th>\n",
              "      <td>0</td>\n",
              "      <td>0</td>\n",
              "      <td>0</td>\n",
              "    </tr>\n",
              "    <tr>\n",
              "      <th>11</th>\n",
              "      <td>1</td>\n",
              "      <td>1</td>\n",
              "      <td>0</td>\n",
              "    </tr>\n",
              "    <tr>\n",
              "      <th>12</th>\n",
              "      <td>1</td>\n",
              "      <td>1</td>\n",
              "      <td>1</td>\n",
              "    </tr>\n",
              "    <tr>\n",
              "      <th>13</th>\n",
              "      <td>1</td>\n",
              "      <td>1</td>\n",
              "      <td>1</td>\n",
              "    </tr>\n",
              "    <tr>\n",
              "      <th>14</th>\n",
              "      <td>0</td>\n",
              "      <td>0</td>\n",
              "      <td>0</td>\n",
              "    </tr>\n",
              "    <tr>\n",
              "      <th>15</th>\n",
              "      <td>0</td>\n",
              "      <td>0</td>\n",
              "      <td>0</td>\n",
              "    </tr>\n",
              "    <tr>\n",
              "      <th>16</th>\n",
              "      <td>1</td>\n",
              "      <td>1</td>\n",
              "      <td>1</td>\n",
              "    </tr>\n",
              "    <tr>\n",
              "      <th>17</th>\n",
              "      <td>0</td>\n",
              "      <td>0</td>\n",
              "      <td>1</td>\n",
              "    </tr>\n",
              "    <tr>\n",
              "      <th>18</th>\n",
              "      <td>1</td>\n",
              "      <td>1</td>\n",
              "      <td>1</td>\n",
              "    </tr>\n",
              "    <tr>\n",
              "      <th>19</th>\n",
              "      <td>1</td>\n",
              "      <td>1</td>\n",
              "      <td>1</td>\n",
              "    </tr>\n",
              "    <tr>\n",
              "      <th>20</th>\n",
              "      <td>0</td>\n",
              "      <td>0</td>\n",
              "      <td>0</td>\n",
              "    </tr>\n",
              "    <tr>\n",
              "      <th>21</th>\n",
              "      <td>1</td>\n",
              "      <td>1</td>\n",
              "      <td>1</td>\n",
              "    </tr>\n",
              "    <tr>\n",
              "      <th>22</th>\n",
              "      <td>1</td>\n",
              "      <td>1</td>\n",
              "      <td>0</td>\n",
              "    </tr>\n",
              "    <tr>\n",
              "      <th>23</th>\n",
              "      <td>1</td>\n",
              "      <td>1</td>\n",
              "      <td>1</td>\n",
              "    </tr>\n",
              "    <tr>\n",
              "      <th>24</th>\n",
              "      <td>1</td>\n",
              "      <td>1</td>\n",
              "      <td>1</td>\n",
              "    </tr>\n",
              "    <tr>\n",
              "      <th>25</th>\n",
              "      <td>1</td>\n",
              "      <td>1</td>\n",
              "      <td>0</td>\n",
              "    </tr>\n",
              "    <tr>\n",
              "      <th>26</th>\n",
              "      <td>1</td>\n",
              "      <td>1</td>\n",
              "      <td>0</td>\n",
              "    </tr>\n",
              "    <tr>\n",
              "      <th>27</th>\n",
              "      <td>1</td>\n",
              "      <td>1</td>\n",
              "      <td>1</td>\n",
              "    </tr>\n",
              "    <tr>\n",
              "      <th>28</th>\n",
              "      <td>0</td>\n",
              "      <td>0</td>\n",
              "      <td>1</td>\n",
              "    </tr>\n",
              "    <tr>\n",
              "      <th>29</th>\n",
              "      <td>0</td>\n",
              "      <td>0</td>\n",
              "      <td>0</td>\n",
              "    </tr>\n",
              "    <tr>\n",
              "      <th>30</th>\n",
              "      <td>0</td>\n",
              "      <td>0</td>\n",
              "      <td>0</td>\n",
              "    </tr>\n",
              "    <tr>\n",
              "      <th>31</th>\n",
              "      <td>1</td>\n",
              "      <td>1</td>\n",
              "      <td>0</td>\n",
              "    </tr>\n",
              "    <tr>\n",
              "      <th>32</th>\n",
              "      <td>0</td>\n",
              "      <td>0</td>\n",
              "      <td>1</td>\n",
              "    </tr>\n",
              "    <tr>\n",
              "      <th>33</th>\n",
              "      <td>0</td>\n",
              "      <td>0</td>\n",
              "      <td>1</td>\n",
              "    </tr>\n",
              "    <tr>\n",
              "      <th>34</th>\n",
              "      <td>1</td>\n",
              "      <td>1</td>\n",
              "      <td>1</td>\n",
              "    </tr>\n",
              "    <tr>\n",
              "      <th>35</th>\n",
              "      <td>1</td>\n",
              "      <td>1</td>\n",
              "      <td>0</td>\n",
              "    </tr>\n",
              "    <tr>\n",
              "      <th>36</th>\n",
              "      <td>0</td>\n",
              "      <td>0</td>\n",
              "      <td>0</td>\n",
              "    </tr>\n",
              "    <tr>\n",
              "      <th>37</th>\n",
              "      <td>1</td>\n",
              "      <td>1</td>\n",
              "      <td>1</td>\n",
              "    </tr>\n",
              "    <tr>\n",
              "      <th>38</th>\n",
              "      <td>1</td>\n",
              "      <td>1</td>\n",
              "      <td>1</td>\n",
              "    </tr>\n",
              "    <tr>\n",
              "      <th>39</th>\n",
              "      <td>1</td>\n",
              "      <td>1</td>\n",
              "      <td>1</td>\n",
              "    </tr>\n",
              "    <tr>\n",
              "      <th>40</th>\n",
              "      <td>0</td>\n",
              "      <td>0</td>\n",
              "      <td>1</td>\n",
              "    </tr>\n",
              "    <tr>\n",
              "      <th>41</th>\n",
              "      <td>1</td>\n",
              "      <td>1</td>\n",
              "      <td>1</td>\n",
              "    </tr>\n",
              "    <tr>\n",
              "      <th>42</th>\n",
              "      <td>1</td>\n",
              "      <td>1</td>\n",
              "      <td>0</td>\n",
              "    </tr>\n",
              "    <tr>\n",
              "      <th>43</th>\n",
              "      <td>1</td>\n",
              "      <td>1</td>\n",
              "      <td>1</td>\n",
              "    </tr>\n",
              "    <tr>\n",
              "      <th>44</th>\n",
              "      <td>0</td>\n",
              "      <td>0</td>\n",
              "      <td>0</td>\n",
              "    </tr>\n",
              "    <tr>\n",
              "      <th>45</th>\n",
              "      <td>0</td>\n",
              "      <td>0</td>\n",
              "      <td>0</td>\n",
              "    </tr>\n",
              "    <tr>\n",
              "      <th>46</th>\n",
              "      <td>1</td>\n",
              "      <td>1</td>\n",
              "      <td>1</td>\n",
              "    </tr>\n",
              "    <tr>\n",
              "      <th>47</th>\n",
              "      <td>0</td>\n",
              "      <td>0</td>\n",
              "      <td>1</td>\n",
              "    </tr>\n",
              "    <tr>\n",
              "      <th>48</th>\n",
              "      <td>1</td>\n",
              "      <td>1</td>\n",
              "      <td>1</td>\n",
              "    </tr>\n",
              "    <tr>\n",
              "      <th>49</th>\n",
              "      <td>1</td>\n",
              "      <td>1</td>\n",
              "      <td>1</td>\n",
              "    </tr>\n",
              "  </tbody>\n",
              "</table>\n",
              "</div>\n",
              "      <button class=\"colab-df-convert\" onclick=\"convertToInteractive('df-89809242-e8b9-45a0-931e-3406fa9e4c94')\"\n",
              "              title=\"Convert this dataframe to an interactive table.\"\n",
              "              style=\"display:none;\">\n",
              "        \n",
              "  <svg xmlns=\"http://www.w3.org/2000/svg\" height=\"24px\"viewBox=\"0 0 24 24\"\n",
              "       width=\"24px\">\n",
              "    <path d=\"M0 0h24v24H0V0z\" fill=\"none\"/>\n",
              "    <path d=\"M18.56 5.44l.94 2.06.94-2.06 2.06-.94-2.06-.94-.94-2.06-.94 2.06-2.06.94zm-11 1L8.5 8.5l.94-2.06 2.06-.94-2.06-.94L8.5 2.5l-.94 2.06-2.06.94zm10 10l.94 2.06.94-2.06 2.06-.94-2.06-.94-.94-2.06-.94 2.06-2.06.94z\"/><path d=\"M17.41 7.96l-1.37-1.37c-.4-.4-.92-.59-1.43-.59-.52 0-1.04.2-1.43.59L10.3 9.45l-7.72 7.72c-.78.78-.78 2.05 0 2.83L4 21.41c.39.39.9.59 1.41.59.51 0 1.02-.2 1.41-.59l7.78-7.78 2.81-2.81c.8-.78.8-2.07 0-2.86zM5.41 20L4 18.59l7.72-7.72 1.47 1.35L5.41 20z\"/>\n",
              "  </svg>\n",
              "      </button>\n",
              "      \n",
              "  <style>\n",
              "    .colab-df-container {\n",
              "      display:flex;\n",
              "      flex-wrap:wrap;\n",
              "      gap: 12px;\n",
              "    }\n",
              "\n",
              "    .colab-df-convert {\n",
              "      background-color: #E8F0FE;\n",
              "      border: none;\n",
              "      border-radius: 50%;\n",
              "      cursor: pointer;\n",
              "      display: none;\n",
              "      fill: #1967D2;\n",
              "      height: 32px;\n",
              "      padding: 0 0 0 0;\n",
              "      width: 32px;\n",
              "    }\n",
              "\n",
              "    .colab-df-convert:hover {\n",
              "      background-color: #E2EBFA;\n",
              "      box-shadow: 0px 1px 2px rgba(60, 64, 67, 0.3), 0px 1px 3px 1px rgba(60, 64, 67, 0.15);\n",
              "      fill: #174EA6;\n",
              "    }\n",
              "\n",
              "    [theme=dark] .colab-df-convert {\n",
              "      background-color: #3B4455;\n",
              "      fill: #D2E3FC;\n",
              "    }\n",
              "\n",
              "    [theme=dark] .colab-df-convert:hover {\n",
              "      background-color: #434B5C;\n",
              "      box-shadow: 0px 1px 3px 1px rgba(0, 0, 0, 0.15);\n",
              "      filter: drop-shadow(0px 1px 2px rgba(0, 0, 0, 0.3));\n",
              "      fill: #FFFFFF;\n",
              "    }\n",
              "  </style>\n",
              "\n",
              "      <script>\n",
              "        const buttonEl =\n",
              "          document.querySelector('#df-89809242-e8b9-45a0-931e-3406fa9e4c94 button.colab-df-convert');\n",
              "        buttonEl.style.display =\n",
              "          google.colab.kernel.accessAllowed ? 'block' : 'none';\n",
              "\n",
              "        async function convertToInteractive(key) {\n",
              "          const element = document.querySelector('#df-89809242-e8b9-45a0-931e-3406fa9e4c94');\n",
              "          const dataTable =\n",
              "            await google.colab.kernel.invokeFunction('convertToInteractive',\n",
              "                                                     [key], {});\n",
              "          if (!dataTable) return;\n",
              "\n",
              "          const docLinkHtml = 'Like what you see? Visit the ' +\n",
              "            '<a target=\"_blank\" href=https://colab.research.google.com/notebooks/data_table.ipynb>data table notebook</a>'\n",
              "            + ' to learn more about interactive tables.';\n",
              "          element.innerHTML = '';\n",
              "          dataTable['output_type'] = 'display_data';\n",
              "          await google.colab.output.renderOutput(dataTable, element);\n",
              "          const docLink = document.createElement('div');\n",
              "          docLink.innerHTML = docLinkHtml;\n",
              "          element.appendChild(docLink);\n",
              "        }\n",
              "      </script>\n",
              "    </div>\n",
              "  </div>\n",
              "  "
            ]
          },
          "metadata": {},
          "execution_count": 66
        }
      ],
      "source": [
        "#Generating prediction in all sample test data\n",
        "data=pd.DataFrame(y_predict)\n",
        "data['pred_sentiment']=y_predict\n",
        "data['pred_sentiment'] = np.where((data.pred_sentiment >0.5),1,(data.pred_sentiment).astype(int))\n",
        "data['pred_sentiment'] = np.where((data.pred_sentiment < 0.5),0,(data.pred_sentiment).astype(int))\n",
        "\n",
        "data['sentiment']=y_test\n",
        "data.head(50)"
      ]
    },
    {
      "cell_type": "code",
      "execution_count": null,
      "metadata": {
        "id": "5gY9VUtFRJLX"
      },
      "outputs": [],
      "source": [
        "#Classifying real text\n",
        "#from tensorflow.keras.preprocessing.text import Tokenizer\n",
        "\n",
        "def predict_sentiment(sentence):\n",
        "  sentence_lst=[]\n",
        "  sentence_lst.append(sentence)\n",
        " # tokenizer = Tokenizer()\n",
        "  sentence_sequence=tokenizer.texts_to_sequences(sentence_lst)\n",
        "  padded_sentence = pad_sequences(sentence_sequence,maxlen=sentence_length,padding='post')\n",
        "  probability=modelOne.predict(padded_sentence)[0][0]\n",
        "  if probability >0.5:\n",
        "    print(f'POSITIVE {np.round(probability*100,2)}%')\n",
        "  else:\n",
        "    print(f'NEGATIVE {100-(np.round(probability *100,2))}%')\n",
        "   \n"
      ]
    },
    {
      "cell_type": "code",
      "execution_count": null,
      "metadata": {
        "colab": {
          "base_uri": "https://localhost:8080/"
        },
        "id": "iy33dNnIQ45A",
        "outputId": "97413aba-753d-4091-8fcf-3f42f8062c2e"
      },
      "outputs": [
        {
          "output_type": "stream",
          "name": "stdout",
          "text": [
            "Enter the sentence: nadiskobre nga sobra ka dautan ang drug addict\n",
            "NEGATIVE 71.32%\n"
          ]
        }
      ],
      "source": [
        "predict_sentiment(str(input(\"Enter the sentence: \")))"
      ]
    },
    {
      "cell_type": "markdown",
      "metadata": {
        "id": "_NnL4fr6fcVH"
      },
      "source": [
        "**===================================================== END ===================================================**"
      ]
    },
    {
      "cell_type": "markdown",
      "metadata": {
        "id": "EQVI0WjjgTov"
      },
      "source": [
        "# **???**"
      ]
    },
    {
      "cell_type": "code",
      "execution_count": null,
      "metadata": {
        "id": "ynK_53BGgalq"
      },
      "outputs": [],
      "source": [
        "from re import match\n",
        "\n",
        "def change_bisayavowels(words):\n",
        "  new_words=[]\n",
        "  for word in words:\n",
        "    if type(word) is str:\n",
        "      table = word.maketrans({'e':'i','o':'u'})\n",
        "      new_word=word.translate(table)\n",
        "    new_words.append(new_word)\n",
        "  return new_words"
      ]
    },
    {
      "cell_type": "code",
      "execution_count": null,
      "metadata": {
        "colab": {
          "base_uri": "https://localhost:8080/",
          "height": 217
        },
        "id": "ZRx4F00sCPla",
        "outputId": "e65360de-883f-41a4-d469-acbe30bcf8cc"
      },
      "outputs": [
        {
          "ename": "NameError",
          "evalue": "ignored",
          "output_type": "error",
          "traceback": [
            "\u001b[0;31m---------------------------------------------------------------------------\u001b[0m",
            "\u001b[0;31mNameError\u001b[0m                                 Traceback (most recent call last)",
            "\u001b[0;32m<ipython-input-17-4209b4721a30>\u001b[0m in \u001b[0;36m<module>\u001b[0;34m()\u001b[0m\n\u001b[1;32m     35\u001b[0m     \u001b[0mplt\u001b[0m\u001b[0;34m.\u001b[0m\u001b[0mxlabel\u001b[0m\u001b[0;34m(\u001b[0m\u001b[0;34m'Predicted label'\u001b[0m\u001b[0;34m)\u001b[0m\u001b[0;34m\u001b[0m\u001b[0;34m\u001b[0m\u001b[0m\n\u001b[1;32m     36\u001b[0m \u001b[0;34m\u001b[0m\u001b[0m\n\u001b[0;32m---> 37\u001b[0;31m \u001b[0mcm\u001b[0m \u001b[0;34m=\u001b[0m \u001b[0mmetrics\u001b[0m\u001b[0;34m.\u001b[0m\u001b[0mconfusion_matrix\u001b[0m\u001b[0;34m(\u001b[0m\u001b[0my_test\u001b[0m\u001b[0;34m,\u001b[0m \u001b[0mpred\u001b[0m\u001b[0;34m)\u001b[0m\u001b[0;34m\u001b[0m\u001b[0;34m\u001b[0m\u001b[0m\n\u001b[0m\u001b[1;32m     38\u001b[0m \u001b[0mplot_confusion_matrix\u001b[0m\u001b[0;34m(\u001b[0m\u001b[0mcm\u001b[0m\u001b[0;34m,\u001b[0m \u001b[0mclasses\u001b[0m\u001b[0;34m=\u001b[0m\u001b[0;34m[\u001b[0m\u001b[0;34m'FAKE'\u001b[0m\u001b[0;34m,\u001b[0m \u001b[0;34m'REAL'\u001b[0m\u001b[0;34m]\u001b[0m\u001b[0;34m)\u001b[0m\u001b[0;34m\u001b[0m\u001b[0;34m\u001b[0m\u001b[0m\n",
            "\u001b[0;31mNameError\u001b[0m: name 'metrics' is not defined"
          ]
        }
      ],
      "source": [
        "#https://medium.com/mlearning-ai/nlp-detecting-fake-news-on-social-media-aa53ff74f2ff\n",
        "import matplotlib.pyplot as plt\n",
        "from sklearn.metrics import classification_report\n",
        "def plot_confusion_matrix(cm, classes,\n",
        "                          normalize=False,\n",
        "                          title='Confusion matrix',\n",
        "                          cmap=plt.cm.Blues):\n",
        "    \"\"\"\n",
        "    See full source and example: \n",
        "    http://scikit-learn.org/stable/auto_examples/model_selection/plot_confusion_matrix.html\n",
        "    \n",
        "    This function prints and plots the confusion matrix.\n",
        "    Normalization can be applied by setting `normalize=True`.\n",
        "    \"\"\"\n",
        "    plt.imshow(cm, interpolation='nearest', cmap=cmap)\n",
        "    plt.title(title)\n",
        "    plt.colorbar()\n",
        "    tick_marks = np.arange(len(classes))\n",
        "    plt.xticks(tick_marks, classes, rotation=45)\n",
        "    plt.yticks(tick_marks, classes)\n",
        "\n",
        "    if normalize:\n",
        "        cm = cm.astype('float') / cm.sum(axis=1)[:, np.newaxis]\n",
        "        print(\"Normalized confusion matrix\")\n",
        "    else:\n",
        "        print('Confusion matrix, without normalization')\n",
        "\n",
        "    thresh = cm.max() / 2.\n",
        "    for i, j in itertools.product(range(cm.shape[0]), range(cm.shape[1])):\n",
        "        plt.text(j, i, cm[i, j],\n",
        "                 horizontalalignment=\"center\",\n",
        "                 color=\"white\" if cm[i, j] > thresh else \"black\")\n",
        "\n",
        "    plt.tight_layout()\n",
        "    plt.ylabel('True label')\n",
        "    plt.xlabel('Predicted label')\n",
        "\n",
        "cm = metrics.confusion_matrix(y_test, pred)\n",
        "plot_confusion_matrix(cm, classes=['FAKE', 'REAL'])"
      ]
    },
    {
      "cell_type": "code",
      "execution_count": null,
      "metadata": {
        "id": "zvkU6wOx7r3W"
      },
      "outputs": [],
      "source": [
        "#checkpoint_path = \"Embeddings\"\n",
        "#checkpoint_dir = os.path.dirname(checkpoint_path)\n",
        "#if not os.path.exists(output_dir):\n",
        " # os.makedirs(output_dir)\n",
        "# Create a callback that saves the model's weights\n",
        "#cp_callback = tf.keras.callbacks.ModelCheckpoint(filepath=checkpoint_path,save_weights_only=True, verbose=1)\n",
        "#EmbeddingModel.wv.save('/content/drive/MyDrive/Colab Notebooks/data/BisayaEmbedding.model',binary=False)\n",
        "#wordEmbeddings.wv.save_word2vec_format('/content/drive/MyDrive/Colab Notebooks/data/BisayaEmbedding.model',binary=False)"
      ]
    },
    {
      "cell_type": "code",
      "execution_count": null,
      "metadata": {
        "id": "3miWHxTyak4E"
      },
      "outputs": [],
      "source": [
        ""
      ]
    }
  ],
  "metadata": {
    "accelerator": "GPU",
    "colab": {
      "collapsed_sections": [
        "zekrDX9mDrNl",
        "ygNhQvEl7Pqm",
        "9VT4J4ZpDTCr",
        "5tlD_1uFRKAh",
        "EQVI0WjjgTov"
      ],
      "name": "2-BiLSTM Layer Language Model for A Sentiment Analyzer.ipynb",
      "provenance": []
    },
    "kernelspec": {
      "display_name": "Python 3",
      "name": "python3"
    },
    "language_info": {
      "name": "python"
    }
  },
  "nbformat": 4,
  "nbformat_minor": 0
}